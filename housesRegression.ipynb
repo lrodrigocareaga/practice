{
  "nbformat": 4,
  "nbformat_minor": 0,
  "metadata": {
    "colab": {
      "name": "housesRegression.ipynb",
      "version": "0.3.2",
      "provenance": [],
      "toc_visible": true,
      "include_colab_link": true
    },
    "kernelspec": {
      "name": "python3",
      "display_name": "Python 3"
    },
    "accelerator": "GPU"
  },
  "cells": [
    {
      "cell_type": "markdown",
      "metadata": {
        "id": "view-in-github",
        "colab_type": "text"
      },
      "source": [
        "<a href=\"https://colab.research.google.com/github/lrodrigocareaga/practice/blob/master/housesRegression.ipynb\" target=\"_parent\"><img src=\"https://colab.research.google.com/assets/colab-badge.svg\" alt=\"Open In Colab\"/></a>"
      ]
    },
    {
      "cell_type": "markdown",
      "metadata": {
        "id": "YuevJNCEHRu0",
        "colab_type": "text"
      },
      "source": [
        "# Libraries"
      ]
    },
    {
      "cell_type": "code",
      "metadata": {
        "id": "SHJMkg8Yi6nd",
        "colab_type": "code",
        "colab": {}
      },
      "source": [
        "import numpy as np\n",
        "import pandas as pd\n",
        "import matplotlib.pyplot as plt\n",
        "import tensorflow as tf\n",
        "import keras,os,tarfile,sys,pickle,zipfile\n",
        "\n",
        "#Keras libraries & packages\n",
        "from keras import models,initializers,layers,optimizers\n",
        "from keras import backend as K\n",
        "from keras.utils import to_categorical,plot_model\n",
        "from keras.models import Sequential,Model\n",
        "from keras.optimizers import Adam\n",
        "from keras.preprocessing import image\n",
        "from keras.preprocessing.image import ImageDataGenerator\n",
        "from keras.layers import Input,Dense,Conv2D,advanced_activations,Flatten,concatenate,Dropout,MaxPooling2D,Activation,GlobalAveragePooling2D,BatchNormalization,SeparableConv2D,SpatialDropout2D,LeakyReLU\n",
        "from keras.callbacks import EarlyStopping\n",
        "\n",
        "from keras.applications.inception_v3 import InceptionV3\n",
        "from keras.applications.vgg19 import VGG19\n",
        "from keras.applications.resnet50 import ResNet50\n",
        "from keras.applications import MobileNet\n",
        "from keras.applications.mobilenet import preprocess_input\n",
        "\n",
        "#Sci-kit libraries\n",
        "import sklearn.metrics as metrics\n",
        "from sklearn.metrics import confusion_matrix,roc_auc_score\n",
        "from sklearn.model_selection import train_test_split\n",
        "from sklearn.utils.multiclass import unique_labels\n",
        "from sklearn.metrics import classification_report\n",
        "\n",
        "#Others\n",
        "import time\n",
        "import matplotlib.image as mpimg\n",
        "import skimage\n",
        "import argparse\n",
        "import locale\n",
        "import sklearn.model_selection\n",
        "import cv2\n",
        "import shapely.wkt\n",
        "import shapely.affinity\n",
        "import seaborn as sns\n",
        "from skimage.io import imshow\n",
        "from shapely.geometry import MultiPolygon, Polygon\n",
        "from collections import defaultdict\n",
        "from shapely.wkt import loads as wkt_loads"
      ],
      "execution_count": 0,
      "outputs": []
    },
    {
      "cell_type": "code",
      "metadata": {
        "id": "j_JXoaNRHTar",
        "colab_type": "code",
        "outputId": "715204d0-5762-43ff-dea2-d3887f8ad1a3",
        "colab": {
          "base_uri": "https://localhost:8080/",
          "height": 139
        }
      },
      "source": [
        "# Establish the home directory\n",
        "from google.colab import drive\n",
        "drive.mount('/content/drive/')\n",
        "os.chdir('/content/drive/My Drive')"
      ],
      "execution_count": 3,
      "outputs": [
        {
          "output_type": "stream",
          "text": [
            "Go to this URL in a browser: https://accounts.google.com/o/oauth2/auth?client_id=947318989803-6bn6qk8qdgf4n4g3pfee6491hc0brc4i.apps.googleusercontent.com&redirect_uri=urn%3Aietf%3Awg%3Aoauth%3A2.0%3Aoob&scope=email%20https%3A%2F%2Fwww.googleapis.com%2Fauth%2Fdocs.test%20https%3A%2F%2Fwww.googleapis.com%2Fauth%2Fdrive%20https%3A%2F%2Fwww.googleapis.com%2Fauth%2Fdrive.photos.readonly%20https%3A%2F%2Fwww.googleapis.com%2Fauth%2Fpeopleapi.readonly&response_type=code\n",
            "\n",
            "Enter your authorization code:\n",
            "··········\n",
            "Mounted at /content/drive/\n"
          ],
          "name": "stdout"
        }
      ]
    },
    {
      "cell_type": "markdown",
      "metadata": {
        "id": "FqGIQrm8ub85",
        "colab_type": "text"
      },
      "source": [
        "## Kaggle Import"
      ]
    },
    {
      "cell_type": "code",
      "metadata": {
        "id": "D20jZGfbSuBs",
        "colab_type": "code",
        "outputId": "f45a353e-8a8a-4cf4-b13e-217f274dc820",
        "colab": {
          "resources": {
            "http://localhost:8080/nbextensions/google.colab/files.js": {
              "data": "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",
              "ok": true,
              "headers": [
                [
                  "content-type",
                  "application/javascript"
                ]
              ],
              "status": 200,
              "status_text": ""
            }
          },
          "base_uri": "https://localhost:8080/",
          "height": 58
        }
      },
      "source": [
        "#import kaggle.json\n",
        "from google.colab import files\n",
        "files.upload()"
      ],
      "execution_count": 5,
      "outputs": [
        {
          "output_type": "display_data",
          "data": {
            "text/html": [
              "\n",
              "     <input type=\"file\" id=\"files-393e73db-227a-4943-ba73-9f93985fa71f\" name=\"files[]\" multiple disabled />\n",
              "     <output id=\"result-393e73db-227a-4943-ba73-9f93985fa71f\">\n",
              "      Upload widget is only available when the cell has been executed in the\n",
              "      current browser session. Please rerun this cell to enable.\n",
              "      </output>\n",
              "      <script src=\"/nbextensions/google.colab/files.js\"></script> "
            ],
            "text/plain": [
              "<IPython.core.display.HTML object>"
            ]
          },
          "metadata": {
            "tags": []
          }
        },
        {
          "output_type": "execute_result",
          "data": {
            "text/plain": [
              "{}"
            ]
          },
          "metadata": {
            "tags": []
          },
          "execution_count": 5
        }
      ]
    },
    {
      "cell_type": "code",
      "metadata": {
        "id": "4W57X9jMJ82h",
        "colab_type": "code",
        "outputId": "fd18ac94-12b4-40cd-ef1d-5e5281621e9c",
        "colab": {
          "base_uri": "https://localhost:8080/",
          "height": 63
        }
      },
      "source": [
        "!mkdir -p ~/.kaggle\n",
        "!cp kaggle.json ~/.kaggle/\n",
        "!chmod 600 ~/.kaggle/kaggle.json\n",
        "!ls ~/.kaggle"
      ],
      "execution_count": 6,
      "outputs": [
        {
          "output_type": "stream",
          "text": [
            "kaggle.json\n"
          ],
          "name": "stdout"
        }
      ]
    },
    {
      "cell_type": "code",
      "metadata": {
        "id": "uij7FwroJ854",
        "colab_type": "code",
        "outputId": "a5f69992-0708-4f61-9664-09a9a34f0e3d",
        "colab": {
          "base_uri": "https://localhost:8080/",
          "height": 930
        }
      },
      "source": [
        "!ls -l ~/.kaggle\n",
        "!cat ~/.kaggle/kaggle.json\n",
        "\n",
        "\n",
        "!pip install -q kaggle\n",
        "!pip install -q kaggle-cli\n",
        "\n",
        "#see the possible datasets in kaggle\n",
        "!kaggle datasets list\n",
        "#see the possible competitions in kaggle\n",
        "!kaggle competitions list"
      ],
      "execution_count": 7,
      "outputs": [
        {
          "output_type": "stream",
          "text": [
            "total 4\n",
            "-rw------- 1 root root 70 May  5 19:54 kaggle.json\n",
            "\u001b[K     |████████████████████████████████| 81kB 9.5MB/s \n",
            "\u001b[K     |████████████████████████████████| 5.3MB 17.6MB/s \n",
            "\u001b[K     |████████████████████████████████| 51kB 8.5MB/s \n",
            "\u001b[K     |████████████████████████████████| 102kB 38.0MB/s \n",
            "\u001b[?25h  Building wheel for kaggle-cli (setup.py) ... \u001b[?25l\u001b[?25hdone\n",
            "  Building wheel for pyperclip (setup.py) ... \u001b[?25l\u001b[?25hdone\n",
            "ref                                                          title                                                size  lastUpdated          downloadCount  \n",
            "-----------------------------------------------------------  --------------------------------------------------  -----  -------------------  -------------  \n",
            "ronitf/heart-disease-uci                                     Heart Disease UCI                                     3KB  2018-06-25 11:33:56          40533  \n",
            "bigquery/crypto-ethereum-classic                             Ethereum Classic Blockchain                          70GB  2019-03-20 23:21:25              0  \n",
            "russellyates88/suicide-rates-overview-1985-to-2016           Suicide Rates Overview 1985 to 2016                 396KB  2018-12-01 19:18:25          27959  \n",
            "karangadiya/fifa19                                           FIFA 19 complete player dataset                       2MB  2018-12-21 03:52:59          27347  \n",
            "iarunava/cell-images-for-detecting-malaria                   Malaria Cell Images Dataset                         337MB  2018-12-05 05:40:21           6036  \n",
            "lava18/google-play-store-apps                                Google Play Store Apps                                2MB  2019-02-03 13:55:47          53823  \n",
            "jessicali9530/stanford-dogs-dataset                          Stanford Dogs Dataset                               735MB  2019-02-13 05:45:25           3439  \n",
            "jutrera/stanford-car-dataset-by-classes-folder               Stanford Car Dataset by classes folder                2GB  2018-07-02 07:35:45           3276  \n",
            "jessicali9530/celeba-dataset                                 CelebFaces Attributes (CelebA) Dataset                1GB  2018-06-01 20:08:48           7784  \n",
            "mohansacharya/graduate-admissions                            Graduate Admissions                                   9KB  2018-12-28 10:07:14          22161  \n",
            "safegraph/census-block-group-american-community-survey-data  Census Block Group American Community Survey Data     2GB  2018-12-22 00:29:56            898  \n",
            "cityofLA/los-angeles-parking-citations                       Los Angeles Parking Citations                       261MB  2019-05-04 22:18:08           3832  \n",
            "vjchoudhary7/customer-segmentation-tutorial-in-python        Mall Customer Segmentation Data                       2KB  2018-08-11 07:23:02           9010  \n",
            "noriuk/us-education-datasets-unification-project             U.S. Education Datasets: Unification Project         85MB  2019-03-02 18:41:52           4286  \n",
            "safegraph/visit-patterns-by-census-block-group               Consumer & Visitor Insights For Neighborhoods        66MB  2018-12-19 21:31:50           1750  \n",
            "anokas/kuzushiji                                             Kuzushiji-MNIST                                     318MB  2018-12-17 01:19:31            956  \n",
            "fivethirtyeight/fivethirtyeight-comic-characters-dataset     FiveThirtyEight Comic Characters Dataset            577KB  2019-04-26 15:01:41           2768  \n",
            "rmisra/news-headlines-dataset-for-sarcasm-detection          News Headlines Dataset For Sarcasm Detection          2MB  2018-06-09 22:14:56           3185  \n",
            "pavansanagapati/urban-sound-classification                   Urban Sound Classification                            6GB  2018-06-16 13:44:36           2642  \n",
            "xvivancos/barcelona-data-sets                                Barcelona data sets                                   1MB  2018-12-13 14:16:53           4593  \n",
            "ref                                                deadline             category            reward  teamCount  userHasEntered  \n",
            "-------------------------------------------------  -------------------  ---------------  ---------  ---------  --------------  \n",
            "digit-recognizer                                   2030-01-01 00:00:00  Getting Started  Knowledge       2988           False  \n",
            "titanic                                            2030-01-01 00:00:00  Getting Started  Knowledge      11345           False  \n",
            "house-prices-advanced-regression-techniques        2030-01-01 00:00:00  Getting Started  Knowledge       4542            True  \n",
            "imagenet-object-localization-challenge             2029-12-31 07:00:00  Research         Knowledge         37           False  \n",
            "competitive-data-science-predict-future-sales      2019-12-31 23:59:00  Playground           Kudos       2979           False  \n",
            "two-sigma-financial-news                           2019-07-15 23:59:00  Featured          $100,000       2927           False  \n",
            "aerial-cactus-identification                       2019-07-08 23:59:00  Playground       Knowledge        501           False  \n",
            "jigsaw-unintended-bias-in-toxicity-classification  2019-06-26 23:59:00  Featured           $65,000       1615           False  \n",
            "imaterialist-fashion-2019-FGVC6                    2019-06-10 23:59:00  Research             Kudos         34           False  \n",
            "inaturalist-2019-fgvc6                             2019-06-10 23:59:00  Research             Kudos        115           False  \n",
            "freesound-audio-tagging-2019                       2019-06-10 11:59:00  Research            $5,000        508           False  \n",
            "iwildcam-2019-fgvc6                                2019-06-07 23:59:00  Playground           Kudos        157           False  \n",
            "imet-2019-fgvc6                                    2019-06-04 23:59:00  Research             Kudos        361           False  \n",
            "LANL-Earthquake-Prediction                         2019-06-03 23:59:00  Research           $50,000       3545           False  \n",
            "landmark-recognition-2019                          2019-06-03 23:59:00  Research           $25,000        113           False  \n",
            "landmark-retrieval-2019                            2019-06-03 23:59:00  Research           $25,000         91           False  \n",
            "tmdb-box-office-prediction                         2019-05-30 23:59:00  Playground       Knowledge        960           False  \n",
            "dont-overfit-ii                                    2019-05-07 23:59:00  Playground            Swag       2259           False  \n",
            "ciphertext-challenge-ii                            2019-04-25 23:59:00  Playground            Swag         75           False  \n",
            "data-science-for-good-careervillage                2019-04-23 23:59:00  Analytics          $15,000          0           False  \n"
          ],
          "name": "stdout"
        }
      ]
    },
    {
      "cell_type": "code",
      "metadata": {
        "id": "IKlFGMVBJ9Os",
        "colab_type": "code",
        "outputId": "78e2a1fc-8db6-42f5-a842-f222fa8273b4",
        "colab": {
          "base_uri": "https://localhost:8080/",
          "height": 233
        }
      },
      "source": [
        "os.chdir('/content/drive/My Drive/casas/casasBoston')\n",
        "!kaggle competitions list -c house-prices-advanced-regression-techniques\n",
        "!kaggle competitions download -c boston-housing\n"
      ],
      "execution_count": 15,
      "outputs": [
        {
          "output_type": "stream",
          "text": [
            "usage: kaggle [-h] [-v] {competitions,c,datasets,d,kernels,k,config} ...\n",
            "kaggle: error: unrecognized arguments: -c house-prices-advanced-regression-techniques\n",
            "Downloading train.csv to /content/drive/My Drive/casas/casasBoston\n",
            "  0% 0.00/23.6k [00:00<?, ?B/s]\n",
            "100% 23.6k/23.6k [00:00<00:00, 3.35MB/s]\n",
            "Downloading test.csv to /content/drive/My Drive/casas/casasBoston\n",
            "  0% 0.00/11.5k [00:00<?, ?B/s]\n",
            "100% 11.5k/11.5k [00:00<00:00, 1.64MB/s]\n",
            "Downloading submission_example.csv to /content/drive/My Drive/casas/casasBoston\n",
            "  0% 0.00/3.52k [00:00<?, ?B/s]\n",
            "100% 3.52k/3.52k [00:00<00:00, 504kB/s]\n"
          ],
          "name": "stdout"
        }
      ]
    },
    {
      "cell_type": "code",
      "metadata": {
        "id": "uG87fmeGyT19",
        "colab_type": "code",
        "colab": {}
      },
      "source": [
        "os.chdir('/content/drive/My Drive/')\n",
        "for file in os.listdir():\n",
        "  if file.endswith(\"csv.zip\"):\n",
        "    zip_ref = zipfile.ZipFile(file, 'r')\n",
        "    zip_ref.extractall()\n",
        "    zip_ref.close()"
      ],
      "execution_count": 0,
      "outputs": []
    },
    {
      "cell_type": "code",
      "metadata": {
        "id": "3RE00c4pWY-h",
        "colab_type": "code",
        "colab": {}
      },
      "source": [
        "import zipfile\n",
        "zip_ref = zipfile.ZipFile('deepsat-sat6.zip', 'r')\n",
        "zip_ref.extractall()\n",
        "zip_ref.close()"
      ],
      "execution_count": 0,
      "outputs": []
    },
    {
      "cell_type": "markdown",
      "metadata": {
        "id": "9lYCtiUslYz1",
        "colab_type": "text"
      },
      "source": [
        "## Github Download dataset"
      ]
    },
    {
      "cell_type": "code",
      "metadata": {
        "id": "PFgTvnhcmG1C",
        "colab_type": "code",
        "colab": {
          "base_uri": "https://localhost:8080/",
          "height": 148
        },
        "outputId": "248e8bcc-c7bb-428e-e92a-9f3619f8ed6c"
      },
      "source": [
        "!git clone https://github.com/emanhamed/Houses-dataset"
      ],
      "execution_count": 27,
      "outputs": [
        {
          "output_type": "stream",
          "text": [
            "Cloning into 'Houses-dataset'...\n",
            "remote: Enumerating objects: 2161, done.\u001b[K\n",
            "remote: Total 2161 (delta 0), reused 0 (delta 0), pack-reused 2161\n",
            "Receiving objects: 100% (2161/2161), 176.26 MiB | 20.60 MiB/s, done.\n",
            "Resolving deltas: 100% (18/18), done.\n",
            "Checking out files: 100% (2144/2144), done.\n"
          ],
          "name": "stdout"
        }
      ]
    },
    {
      "cell_type": "markdown",
      "metadata": {
        "id": "e32AktirJwbc",
        "colab_type": "text"
      },
      "source": [
        "# Experiments"
      ]
    },
    {
      "cell_type": "markdown",
      "metadata": {
        "id": "YrY6jnihSbyX",
        "colab_type": "text"
      },
      "source": [
        "## Load Data"
      ]
    },
    {
      "cell_type": "code",
      "metadata": {
        "id": "MLxz-JTnla6o",
        "colab_type": "code",
        "colab": {}
      },
      "source": [
        "cols = [\"bedrooms\", \"bathrooms\", \"area\", \"zipcode\", \"price\"]\n",
        "df = pd.read_csv('/content/drive/My Drive/casas/casasBoston/Houses-dataset/Houses Dataset/HousesInfo.txt', sep=\" \", header=None, names=cols)"
      ],
      "execution_count": 0,
      "outputs": []
    },
    {
      "cell_type": "code",
      "metadata": {
        "id": "bD-WmbvHlnce",
        "colab_type": "code",
        "colab": {
          "base_uri": "https://localhost:8080/",
          "height": 204
        },
        "outputId": "c4afeafe-ddf6-424c-e782-e915c5548e7a"
      },
      "source": [
        "df.head()"
      ],
      "execution_count": 29,
      "outputs": [
        {
          "output_type": "execute_result",
          "data": {
            "text/html": [
              "<div>\n",
              "<style scoped>\n",
              "    .dataframe tbody tr th:only-of-type {\n",
              "        vertical-align: middle;\n",
              "    }\n",
              "\n",
              "    .dataframe tbody tr th {\n",
              "        vertical-align: top;\n",
              "    }\n",
              "\n",
              "    .dataframe thead th {\n",
              "        text-align: right;\n",
              "    }\n",
              "</style>\n",
              "<table border=\"1\" class=\"dataframe\">\n",
              "  <thead>\n",
              "    <tr style=\"text-align: right;\">\n",
              "      <th></th>\n",
              "      <th>bedrooms</th>\n",
              "      <th>bathrooms</th>\n",
              "      <th>area</th>\n",
              "      <th>zipcode</th>\n",
              "      <th>price</th>\n",
              "    </tr>\n",
              "  </thead>\n",
              "  <tbody>\n",
              "    <tr>\n",
              "      <th>0</th>\n",
              "      <td>4</td>\n",
              "      <td>4.0</td>\n",
              "      <td>4053</td>\n",
              "      <td>85255</td>\n",
              "      <td>869500.0</td>\n",
              "    </tr>\n",
              "    <tr>\n",
              "      <th>1</th>\n",
              "      <td>4</td>\n",
              "      <td>3.0</td>\n",
              "      <td>3343</td>\n",
              "      <td>36372</td>\n",
              "      <td>865200.0</td>\n",
              "    </tr>\n",
              "    <tr>\n",
              "      <th>2</th>\n",
              "      <td>3</td>\n",
              "      <td>4.0</td>\n",
              "      <td>3923</td>\n",
              "      <td>85266</td>\n",
              "      <td>889000.0</td>\n",
              "    </tr>\n",
              "    <tr>\n",
              "      <th>3</th>\n",
              "      <td>5</td>\n",
              "      <td>5.0</td>\n",
              "      <td>4022</td>\n",
              "      <td>85262</td>\n",
              "      <td>910000.0</td>\n",
              "    </tr>\n",
              "    <tr>\n",
              "      <th>4</th>\n",
              "      <td>3</td>\n",
              "      <td>4.0</td>\n",
              "      <td>4116</td>\n",
              "      <td>85266</td>\n",
              "      <td>971226.0</td>\n",
              "    </tr>\n",
              "  </tbody>\n",
              "</table>\n",
              "</div>"
            ],
            "text/plain": [
              "   bedrooms  bathrooms  area  zipcode     price\n",
              "0         4        4.0  4053    85255  869500.0\n",
              "1         4        3.0  3343    36372  865200.0\n",
              "2         3        4.0  3923    85266  889000.0\n",
              "3         5        5.0  4022    85262  910000.0\n",
              "4         3        4.0  4116    85266  971226.0"
            ]
          },
          "metadata": {
            "tags": []
          },
          "execution_count": 29
        }
      ]
    },
    {
      "cell_type": "code",
      "metadata": {
        "id": "0Ft3Tdy2m9q7",
        "colab_type": "code",
        "colab": {}
      },
      "source": [
        "zipcodes = df[\"zipcode\"].value_counts().keys().tolist()\n",
        "counts = df[\"zipcode\"].value_counts().tolist()"
      ],
      "execution_count": 0,
      "outputs": []
    },
    {
      "cell_type": "code",
      "metadata": {
        "id": "uo6lN-iXnfi4",
        "colab_type": "code",
        "colab": {}
      },
      "source": [
        "for (zipcode, count) in zip(zipcodes, counts):\n",
        "\t\tif count < 25:\n",
        "\t\t\tidxs = df[df[\"zipcode\"] == zipcode].index\n",
        "\t\t\tdf.drop(idxs, inplace=True)"
      ],
      "execution_count": 0,
      "outputs": []
    },
    {
      "cell_type": "code",
      "metadata": {
        "id": "P-WH6g4fp_Mf",
        "colab_type": "code",
        "colab": {}
      },
      "source": [
        "(train, test) = train_test_split(df, test_size=0.25, random_state=42)"
      ],
      "execution_count": 0,
      "outputs": []
    },
    {
      "cell_type": "code",
      "metadata": {
        "id": "qeUa-yM6pXPF",
        "colab_type": "code",
        "colab": {
          "base_uri": "https://localhost:8080/",
          "height": 76
        },
        "outputId": "94a8dacf-6a72-430f-b5ab-a5525f3c2065"
      },
      "source": [
        "continuous = [\"bedrooms\", \"bathrooms\", \"area\"]\n",
        " \n",
        "cs = MinMaxScaler()\n",
        "trainContinuous = cs.fit_transform(train[continuous])\n",
        "testContinuous = cs.transform(test[continuous])"
      ],
      "execution_count": 45,
      "outputs": [
        {
          "output_type": "stream",
          "text": [
            "/usr/local/lib/python3.6/dist-packages/sklearn/preprocessing/data.py:334: DataConversionWarning: Data with input dtype int64, float64 were all converted to float64 by MinMaxScaler.\n",
            "  return self.partial_fit(X, y)\n"
          ],
          "name": "stderr"
        }
      ]
    },
    {
      "cell_type": "code",
      "metadata": {
        "id": "a4hvy_pOpXMr",
        "colab_type": "code",
        "colab": {}
      },
      "source": [
        "zipBinarizer = LabelBinarizer().fit(df[\"zipcode\"])\n",
        "trainCategorical = zipBinarizer.transform(train[\"zipcode\"])\n",
        "testCategorical = zipBinarizer.transform(test[\"zipcode\"])\n",
        "\n",
        "trainX = np.hstack([trainCategorical, trainContinuous])\n",
        "testX = np.hstack([testCategorical, testContinuous])"
      ],
      "execution_count": 0,
      "outputs": []
    },
    {
      "cell_type": "code",
      "metadata": {
        "id": "xtPpBXtzrLBn",
        "colab_type": "code",
        "colab": {}
      },
      "source": [
        "maxPrice = train[\"price\"].max()\n",
        "trainY = train[\"price\"] / maxPrice\n",
        "testY = test[\"price\"] / maxPrice"
      ],
      "execution_count": 0,
      "outputs": []
    },
    {
      "cell_type": "markdown",
      "metadata": {
        "id": "MVMKqPduSi3j",
        "colab_type": "text"
      },
      "source": [
        "## Dense Neural Network for Regression"
      ]
    },
    {
      "cell_type": "code",
      "metadata": {
        "id": "yfiYVFM-pXKH",
        "colab_type": "code",
        "colab": {}
      },
      "source": [
        "model1 = Sequential()\n",
        "model1.add(Dense(8, input_dim=trainX.shape[1], activation=\"relu\"))\n",
        "model1.add(Dense(4, activation=\"relu\"))\n",
        "model1.add(Dense(1, activation=\"linear\"))"
      ],
      "execution_count": 0,
      "outputs": []
    },
    {
      "cell_type": "code",
      "metadata": {
        "id": "KtIhhKxkpXHa",
        "colab_type": "code",
        "colab": {
          "base_uri": "https://localhost:8080/",
          "height": 6851
        },
        "outputId": "0b97a0de-5aaf-4ece-e2a0-0458900f004b"
      },
      "source": [
        "opt = Adam(lr=1e-3, decay=1e-3 / 200)\n",
        "model1.compile(optimizer='adam', loss=\"mean_absolute_percentage_error\")\n",
        "\n",
        "\n",
        "start = time.clock() \n",
        "\n",
        "history = model1.fit(trainX, trainY, \n",
        "                    validation_data=(testX, testY),\n",
        "                    epochs=200, \n",
        "                    batch_size=16)\n",
        "end = time.clock()\n",
        "timeDense = end-start\n",
        "\n",
        "print(\"Total Time: {} \".format(timeDense)) "
      ],
      "execution_count": 112,
      "outputs": [
        {
          "output_type": "stream",
          "text": [
            "Train on 271 samples, validate on 91 samples\n",
            "Epoch 1/200\n",
            "271/271 [==============================] - 1s 4ms/step - loss: 410.2364 - val_loss: 281.4753\n",
            "Epoch 2/200\n",
            "271/271 [==============================] - 0s 266us/step - loss: 215.8306 - val_loss: 138.2611\n",
            "Epoch 3/200\n",
            "271/271 [==============================] - 0s 236us/step - loss: 111.9359 - val_loss: 101.3591\n",
            "Epoch 4/200\n",
            "271/271 [==============================] - 0s 238us/step - loss: 82.8506 - val_loss: 79.2888\n",
            "Epoch 5/200\n",
            "271/271 [==============================] - 0s 259us/step - loss: 63.0408 - val_loss: 56.0147\n",
            "Epoch 6/200\n",
            "271/271 [==============================] - 0s 293us/step - loss: 48.4255 - val_loss: 48.3165\n",
            "Epoch 7/200\n",
            "271/271 [==============================] - 0s 280us/step - loss: 44.1800 - val_loss: 44.7328\n",
            "Epoch 8/200\n",
            "271/271 [==============================] - 0s 241us/step - loss: 40.3557 - val_loss: 41.8082\n",
            "Epoch 9/200\n",
            "271/271 [==============================] - 0s 264us/step - loss: 38.3300 - val_loss: 39.9685\n",
            "Epoch 10/200\n",
            "271/271 [==============================] - 0s 260us/step - loss: 37.1962 - val_loss: 39.3214\n",
            "Epoch 11/200\n",
            "271/271 [==============================] - 0s 237us/step - loss: 35.8826 - val_loss: 39.1636\n",
            "Epoch 12/200\n",
            "271/271 [==============================] - 0s 233us/step - loss: 35.3921 - val_loss: 37.5547\n",
            "Epoch 13/200\n",
            "271/271 [==============================] - 0s 233us/step - loss: 34.4853 - val_loss: 36.6907\n",
            "Epoch 14/200\n",
            "271/271 [==============================] - 0s 230us/step - loss: 33.2861 - val_loss: 35.8331\n",
            "Epoch 15/200\n",
            "271/271 [==============================] - 0s 231us/step - loss: 32.9825 - val_loss: 35.4367\n",
            "Epoch 16/200\n",
            "271/271 [==============================] - 0s 228us/step - loss: 32.7583 - val_loss: 35.9367\n",
            "Epoch 17/200\n",
            "271/271 [==============================] - 0s 229us/step - loss: 33.7592 - val_loss: 34.5400\n",
            "Epoch 18/200\n",
            "271/271 [==============================] - 0s 229us/step - loss: 32.7515 - val_loss: 34.9951\n",
            "Epoch 19/200\n",
            "271/271 [==============================] - 0s 231us/step - loss: 31.9041 - val_loss: 35.1126\n",
            "Epoch 20/200\n",
            "271/271 [==============================] - 0s 235us/step - loss: 32.0032 - val_loss: 35.2574\n",
            "Epoch 21/200\n",
            "271/271 [==============================] - 0s 229us/step - loss: 31.6827 - val_loss: 33.2867\n",
            "Epoch 22/200\n",
            "271/271 [==============================] - 0s 287us/step - loss: 31.7186 - val_loss: 33.5996\n",
            "Epoch 23/200\n",
            "271/271 [==============================] - 0s 231us/step - loss: 31.1611 - val_loss: 32.9129\n",
            "Epoch 24/200\n",
            "271/271 [==============================] - 0s 232us/step - loss: 31.1641 - val_loss: 33.5303\n",
            "Epoch 25/200\n",
            "271/271 [==============================] - 0s 237us/step - loss: 30.6301 - val_loss: 32.9393\n",
            "Epoch 26/200\n",
            "271/271 [==============================] - 0s 227us/step - loss: 30.9725 - val_loss: 32.5293\n",
            "Epoch 27/200\n",
            "271/271 [==============================] - 0s 231us/step - loss: 30.8333 - val_loss: 31.9129\n",
            "Epoch 28/200\n",
            "271/271 [==============================] - 0s 234us/step - loss: 31.3627 - val_loss: 31.7401\n",
            "Epoch 29/200\n",
            "271/271 [==============================] - 0s 229us/step - loss: 32.1398 - val_loss: 31.7906\n",
            "Epoch 30/200\n",
            "271/271 [==============================] - 0s 228us/step - loss: 31.0596 - val_loss: 31.2789\n",
            "Epoch 31/200\n",
            "271/271 [==============================] - 0s 224us/step - loss: 30.0223 - val_loss: 31.0876\n",
            "Epoch 32/200\n",
            "271/271 [==============================] - 0s 231us/step - loss: 29.8489 - val_loss: 30.8339\n",
            "Epoch 33/200\n",
            "271/271 [==============================] - 0s 232us/step - loss: 29.7169 - val_loss: 30.5580\n",
            "Epoch 34/200\n",
            "271/271 [==============================] - 0s 222us/step - loss: 29.3146 - val_loss: 30.6186\n",
            "Epoch 35/200\n",
            "271/271 [==============================] - 0s 224us/step - loss: 29.5341 - val_loss: 30.3925\n",
            "Epoch 36/200\n",
            "271/271 [==============================] - 0s 228us/step - loss: 29.2142 - val_loss: 30.2687\n",
            "Epoch 37/200\n",
            "271/271 [==============================] - 0s 236us/step - loss: 29.7296 - val_loss: 30.6573\n",
            "Epoch 38/200\n",
            "271/271 [==============================] - 0s 271us/step - loss: 29.3304 - val_loss: 30.5104\n",
            "Epoch 39/200\n",
            "271/271 [==============================] - 0s 227us/step - loss: 29.7959 - val_loss: 30.0780\n",
            "Epoch 40/200\n",
            "271/271 [==============================] - 0s 231us/step - loss: 28.8374 - val_loss: 30.2781\n",
            "Epoch 41/200\n",
            "271/271 [==============================] - 0s 220us/step - loss: 28.8238 - val_loss: 29.8338\n",
            "Epoch 42/200\n",
            "271/271 [==============================] - 0s 233us/step - loss: 29.1819 - val_loss: 29.9800\n",
            "Epoch 43/200\n",
            "271/271 [==============================] - 0s 239us/step - loss: 28.9891 - val_loss: 30.1931\n",
            "Epoch 44/200\n",
            "271/271 [==============================] - 0s 234us/step - loss: 28.6513 - val_loss: 29.8632\n",
            "Epoch 45/200\n",
            "271/271 [==============================] - 0s 241us/step - loss: 29.1350 - val_loss: 29.9301\n",
            "Epoch 46/200\n",
            "271/271 [==============================] - 0s 234us/step - loss: 29.8066 - val_loss: 29.8065\n",
            "Epoch 47/200\n",
            "271/271 [==============================] - 0s 261us/step - loss: 28.8151 - val_loss: 30.5805\n",
            "Epoch 48/200\n",
            "271/271 [==============================] - 0s 227us/step - loss: 28.8647 - val_loss: 29.5533\n",
            "Epoch 49/200\n",
            "271/271 [==============================] - 0s 235us/step - loss: 28.6640 - val_loss: 30.0825\n",
            "Epoch 50/200\n",
            "271/271 [==============================] - 0s 240us/step - loss: 28.7718 - val_loss: 29.5603\n",
            "Epoch 51/200\n",
            "271/271 [==============================] - 0s 246us/step - loss: 29.1579 - val_loss: 29.5928\n",
            "Epoch 52/200\n",
            "271/271 [==============================] - 0s 248us/step - loss: 29.1547 - val_loss: 29.4630\n",
            "Epoch 53/200\n",
            "271/271 [==============================] - 0s 297us/step - loss: 28.6113 - val_loss: 29.3906\n",
            "Epoch 54/200\n",
            "271/271 [==============================] - 0s 229us/step - loss: 28.9583 - val_loss: 29.1809\n",
            "Epoch 55/200\n",
            "271/271 [==============================] - 0s 232us/step - loss: 29.2639 - val_loss: 29.6864\n",
            "Epoch 56/200\n",
            "271/271 [==============================] - 0s 246us/step - loss: 28.9418 - val_loss: 29.6994\n",
            "Epoch 57/200\n",
            "271/271 [==============================] - 0s 237us/step - loss: 28.4510 - val_loss: 28.9769\n",
            "Epoch 58/200\n",
            "271/271 [==============================] - 0s 231us/step - loss: 28.8996 - val_loss: 29.2116\n",
            "Epoch 59/200\n",
            "271/271 [==============================] - 0s 227us/step - loss: 28.8780 - val_loss: 28.8435\n",
            "Epoch 60/200\n",
            "271/271 [==============================] - 0s 231us/step - loss: 28.3709 - val_loss: 29.3541\n",
            "Epoch 61/200\n",
            "271/271 [==============================] - 0s 217us/step - loss: 29.1987 - val_loss: 29.1891\n",
            "Epoch 62/200\n",
            "271/271 [==============================] - 0s 234us/step - loss: 28.9351 - val_loss: 29.1293\n",
            "Epoch 63/200\n",
            "271/271 [==============================] - 0s 236us/step - loss: 29.2423 - val_loss: 29.1821\n",
            "Epoch 64/200\n",
            "271/271 [==============================] - 0s 226us/step - loss: 28.0704 - val_loss: 29.8281\n",
            "Epoch 65/200\n",
            "271/271 [==============================] - 0s 229us/step - loss: 28.8060 - val_loss: 29.9628\n",
            "Epoch 66/200\n",
            "271/271 [==============================] - 0s 227us/step - loss: 29.4479 - val_loss: 30.4313\n",
            "Epoch 67/200\n",
            "271/271 [==============================] - 0s 229us/step - loss: 30.0173 - val_loss: 32.0817\n",
            "Epoch 68/200\n",
            "271/271 [==============================] - 0s 231us/step - loss: 30.2692 - val_loss: 29.4067\n",
            "Epoch 69/200\n",
            "271/271 [==============================] - 0s 280us/step - loss: 28.9150 - val_loss: 29.1509\n",
            "Epoch 70/200\n",
            "271/271 [==============================] - 0s 238us/step - loss: 27.8912 - val_loss: 29.8349\n",
            "Epoch 71/200\n",
            "271/271 [==============================] - 0s 234us/step - loss: 28.5621 - val_loss: 29.9176\n",
            "Epoch 72/200\n",
            "271/271 [==============================] - 0s 207us/step - loss: 30.5538 - val_loss: 29.1741\n",
            "Epoch 73/200\n",
            "271/271 [==============================] - 0s 196us/step - loss: 28.2463 - val_loss: 29.3462\n",
            "Epoch 74/200\n",
            "271/271 [==============================] - 0s 204us/step - loss: 28.6334 - val_loss: 28.9027\n",
            "Epoch 75/200\n",
            "271/271 [==============================] - 0s 195us/step - loss: 28.5532 - val_loss: 28.7525\n",
            "Epoch 76/200\n",
            "271/271 [==============================] - 0s 199us/step - loss: 28.1611 - val_loss: 29.1449\n",
            "Epoch 77/200\n",
            "271/271 [==============================] - 0s 204us/step - loss: 27.9587 - val_loss: 29.0072\n",
            "Epoch 78/200\n",
            "271/271 [==============================] - 0s 201us/step - loss: 28.1298 - val_loss: 28.5961\n",
            "Epoch 79/200\n",
            "271/271 [==============================] - 0s 205us/step - loss: 29.1160 - val_loss: 29.2321\n",
            "Epoch 80/200\n",
            "271/271 [==============================] - 0s 200us/step - loss: 28.2918 - val_loss: 29.4288\n",
            "Epoch 81/200\n",
            "271/271 [==============================] - 0s 199us/step - loss: 28.3995 - val_loss: 29.1913\n",
            "Epoch 82/200\n",
            "271/271 [==============================] - 0s 202us/step - loss: 28.8635 - val_loss: 28.9724\n",
            "Epoch 83/200\n",
            "271/271 [==============================] - 0s 196us/step - loss: 28.0802 - val_loss: 29.0599\n",
            "Epoch 84/200\n",
            "271/271 [==============================] - 0s 198us/step - loss: 28.5027 - val_loss: 29.4585\n",
            "Epoch 85/200\n",
            "271/271 [==============================] - 0s 200us/step - loss: 27.9959 - val_loss: 29.0082\n",
            "Epoch 86/200\n",
            "271/271 [==============================] - 0s 202us/step - loss: 27.8938 - val_loss: 28.7109\n",
            "Epoch 87/200\n",
            "271/271 [==============================] - 0s 231us/step - loss: 28.2858 - val_loss: 28.7214\n",
            "Epoch 88/200\n",
            "271/271 [==============================] - 0s 206us/step - loss: 27.9145 - val_loss: 29.4096\n",
            "Epoch 89/200\n",
            "271/271 [==============================] - 0s 196us/step - loss: 29.3463 - val_loss: 29.1361\n",
            "Epoch 90/200\n",
            "271/271 [==============================] - 0s 201us/step - loss: 27.8831 - val_loss: 28.9768\n",
            "Epoch 91/200\n",
            "271/271 [==============================] - 0s 197us/step - loss: 29.1905 - val_loss: 29.2222\n",
            "Epoch 92/200\n",
            "271/271 [==============================] - 0s 203us/step - loss: 28.7312 - val_loss: 28.7917\n",
            "Epoch 93/200\n",
            "271/271 [==============================] - 0s 200us/step - loss: 27.8191 - val_loss: 28.9450\n",
            "Epoch 94/200\n",
            "271/271 [==============================] - 0s 194us/step - loss: 28.3480 - val_loss: 29.4252\n",
            "Epoch 95/200\n",
            "271/271 [==============================] - 0s 199us/step - loss: 29.5700 - val_loss: 28.6940\n",
            "Epoch 96/200\n",
            "271/271 [==============================] - 0s 202us/step - loss: 28.7939 - val_loss: 29.6276\n",
            "Epoch 97/200\n",
            "271/271 [==============================] - 0s 196us/step - loss: 27.6685 - val_loss: 28.6559\n",
            "Epoch 98/200\n",
            "271/271 [==============================] - 0s 203us/step - loss: 28.2892 - val_loss: 28.4794\n",
            "Epoch 99/200\n",
            "271/271 [==============================] - 0s 197us/step - loss: 28.2655 - val_loss: 28.6789\n",
            "Epoch 100/200\n",
            "271/271 [==============================] - 0s 206us/step - loss: 27.9214 - val_loss: 28.4195\n",
            "Epoch 101/200\n",
            "271/271 [==============================] - 0s 195us/step - loss: 28.3383 - val_loss: 28.2719\n",
            "Epoch 102/200\n",
            "271/271 [==============================] - 0s 197us/step - loss: 28.5863 - val_loss: 30.6906\n",
            "Epoch 103/200\n",
            "271/271 [==============================] - 0s 198us/step - loss: 27.6354 - val_loss: 28.3941\n",
            "Epoch 104/200\n",
            "271/271 [==============================] - 0s 211us/step - loss: 28.0108 - val_loss: 28.0973\n",
            "Epoch 105/200\n",
            "271/271 [==============================] - 0s 236us/step - loss: 28.3052 - val_loss: 28.2485\n",
            "Epoch 106/200\n",
            "271/271 [==============================] - 0s 198us/step - loss: 28.8803 - val_loss: 27.9944\n",
            "Epoch 107/200\n",
            "271/271 [==============================] - 0s 194us/step - loss: 27.8884 - val_loss: 29.0099\n",
            "Epoch 108/200\n",
            "271/271 [==============================] - 0s 201us/step - loss: 28.4243 - val_loss: 28.0789\n",
            "Epoch 109/200\n",
            "271/271 [==============================] - 0s 195us/step - loss: 27.7650 - val_loss: 28.0310\n",
            "Epoch 110/200\n",
            "271/271 [==============================] - 0s 203us/step - loss: 27.7908 - val_loss: 27.8649\n",
            "Epoch 111/200\n",
            "271/271 [==============================] - 0s 193us/step - loss: 27.9793 - val_loss: 28.0986\n",
            "Epoch 112/200\n",
            "271/271 [==============================] - 0s 200us/step - loss: 28.2076 - val_loss: 27.9616\n",
            "Epoch 113/200\n",
            "271/271 [==============================] - 0s 199us/step - loss: 27.9327 - val_loss: 28.6397\n",
            "Epoch 114/200\n",
            "271/271 [==============================] - 0s 197us/step - loss: 27.5174 - val_loss: 27.6084\n",
            "Epoch 115/200\n",
            "271/271 [==============================] - 0s 198us/step - loss: 27.7573 - val_loss: 27.5901\n",
            "Epoch 116/200\n",
            "271/271 [==============================] - 0s 199us/step - loss: 27.3980 - val_loss: 27.6385\n",
            "Epoch 117/200\n",
            "271/271 [==============================] - 0s 197us/step - loss: 27.8297 - val_loss: 27.6521\n",
            "Epoch 118/200\n",
            "271/271 [==============================] - 0s 198us/step - loss: 28.2472 - val_loss: 27.6396\n",
            "Epoch 119/200\n",
            "271/271 [==============================] - 0s 202us/step - loss: 28.0906 - val_loss: 27.8599\n",
            "Epoch 120/200\n",
            "271/271 [==============================] - 0s 198us/step - loss: 27.3630 - val_loss: 27.5935\n",
            "Epoch 121/200\n",
            "271/271 [==============================] - 0s 196us/step - loss: 27.6724 - val_loss: 27.1443\n",
            "Epoch 122/200\n",
            "271/271 [==============================] - 0s 193us/step - loss: 27.2518 - val_loss: 27.4451\n",
            "Epoch 123/200\n",
            "271/271 [==============================] - 0s 199us/step - loss: 27.3673 - val_loss: 27.4930\n",
            "Epoch 124/200\n",
            "271/271 [==============================] - 0s 257us/step - loss: 28.0515 - val_loss: 28.0539\n",
            "Epoch 125/200\n",
            "271/271 [==============================] - 0s 201us/step - loss: 28.7968 - val_loss: 28.9148\n",
            "Epoch 126/200\n",
            "271/271 [==============================] - 0s 203us/step - loss: 29.6903 - val_loss: 27.7156\n",
            "Epoch 127/200\n",
            "271/271 [==============================] - 0s 197us/step - loss: 27.8504 - val_loss: 26.9717\n",
            "Epoch 128/200\n",
            "271/271 [==============================] - 0s 207us/step - loss: 27.1493 - val_loss: 27.3109\n",
            "Epoch 129/200\n",
            "271/271 [==============================] - 0s 197us/step - loss: 27.4100 - val_loss: 28.9172\n",
            "Epoch 130/200\n",
            "271/271 [==============================] - 0s 206us/step - loss: 27.9321 - val_loss: 27.0408\n",
            "Epoch 131/200\n",
            "271/271 [==============================] - 0s 194us/step - loss: 26.6959 - val_loss: 27.0569\n",
            "Epoch 132/200\n",
            "271/271 [==============================] - 0s 198us/step - loss: 27.3037 - val_loss: 27.0977\n",
            "Epoch 133/200\n",
            "271/271 [==============================] - 0s 200us/step - loss: 26.6508 - val_loss: 27.9699\n",
            "Epoch 134/200\n",
            "271/271 [==============================] - 0s 199us/step - loss: 26.5787 - val_loss: 26.9435\n",
            "Epoch 135/200\n",
            "271/271 [==============================] - 0s 195us/step - loss: 26.4248 - val_loss: 27.3104\n",
            "Epoch 136/200\n",
            "271/271 [==============================] - 0s 197us/step - loss: 26.7934 - val_loss: 26.9829\n",
            "Epoch 137/200\n",
            "271/271 [==============================] - 0s 207us/step - loss: 26.6256 - val_loss: 27.2511\n",
            "Epoch 138/200\n",
            "271/271 [==============================] - 0s 197us/step - loss: 26.6307 - val_loss: 26.9355\n",
            "Epoch 139/200\n",
            "271/271 [==============================] - 0s 197us/step - loss: 26.6813 - val_loss: 27.3020\n",
            "Epoch 140/200\n",
            "271/271 [==============================] - 0s 200us/step - loss: 26.5760 - val_loss: 26.8608\n",
            "Epoch 141/200\n",
            "271/271 [==============================] - 0s 202us/step - loss: 26.3559 - val_loss: 26.8901\n",
            "Epoch 142/200\n",
            "271/271 [==============================] - 0s 227us/step - loss: 26.4201 - val_loss: 26.6166\n",
            "Epoch 143/200\n",
            "271/271 [==============================] - 0s 199us/step - loss: 26.2424 - val_loss: 26.5747\n",
            "Epoch 144/200\n",
            "271/271 [==============================] - 0s 196us/step - loss: 26.3594 - val_loss: 27.6850\n",
            "Epoch 145/200\n",
            "271/271 [==============================] - 0s 199us/step - loss: 26.5063 - val_loss: 26.3938\n",
            "Epoch 146/200\n",
            "271/271 [==============================] - 0s 205us/step - loss: 26.2319 - val_loss: 26.3941\n",
            "Epoch 147/200\n",
            "271/271 [==============================] - 0s 206us/step - loss: 26.3038 - val_loss: 26.9558\n",
            "Epoch 148/200\n",
            "271/271 [==============================] - 0s 205us/step - loss: 25.7904 - val_loss: 26.6723\n",
            "Epoch 149/200\n",
            "271/271 [==============================] - 0s 198us/step - loss: 25.5632 - val_loss: 26.2975\n",
            "Epoch 150/200\n",
            "271/271 [==============================] - 0s 194us/step - loss: 25.4345 - val_loss: 26.5370\n",
            "Epoch 151/200\n",
            "271/271 [==============================] - 0s 198us/step - loss: 25.4750 - val_loss: 25.8595\n",
            "Epoch 152/200\n",
            "271/271 [==============================] - 0s 205us/step - loss: 25.3161 - val_loss: 25.5214\n",
            "Epoch 153/200\n",
            "271/271 [==============================] - 0s 213us/step - loss: 25.0650 - val_loss: 25.8452\n",
            "Epoch 154/200\n",
            "271/271 [==============================] - 0s 210us/step - loss: 25.4358 - val_loss: 25.8780\n",
            "Epoch 155/200\n",
            "271/271 [==============================] - 0s 218us/step - loss: 25.2189 - val_loss: 26.0937\n",
            "Epoch 156/200\n",
            "271/271 [==============================] - 0s 211us/step - loss: 25.4932 - val_loss: 25.7495\n",
            "Epoch 157/200\n",
            "271/271 [==============================] - 0s 202us/step - loss: 25.0889 - val_loss: 26.5472\n",
            "Epoch 158/200\n",
            "271/271 [==============================] - 0s 201us/step - loss: 25.3321 - val_loss: 25.5436\n",
            "Epoch 159/200\n",
            "271/271 [==============================] - 0s 200us/step - loss: 25.2232 - val_loss: 25.6856\n",
            "Epoch 160/200\n",
            "271/271 [==============================] - 0s 255us/step - loss: 24.8590 - val_loss: 25.6254\n",
            "Epoch 161/200\n",
            "271/271 [==============================] - 0s 196us/step - loss: 25.2640 - val_loss: 25.3951\n",
            "Epoch 162/200\n",
            "271/271 [==============================] - 0s 195us/step - loss: 24.6577 - val_loss: 26.4822\n",
            "Epoch 163/200\n",
            "271/271 [==============================] - 0s 268us/step - loss: 24.6532 - val_loss: 26.6552\n",
            "Epoch 164/200\n",
            "271/271 [==============================] - 0s 210us/step - loss: 25.3116 - val_loss: 25.4132\n",
            "Epoch 165/200\n",
            "271/271 [==============================] - 0s 200us/step - loss: 24.5679 - val_loss: 25.4079\n",
            "Epoch 166/200\n",
            "271/271 [==============================] - 0s 205us/step - loss: 24.2678 - val_loss: 25.9905\n",
            "Epoch 167/200\n",
            "271/271 [==============================] - 0s 194us/step - loss: 23.9219 - val_loss: 25.8337\n",
            "Epoch 168/200\n",
            "271/271 [==============================] - 0s 206us/step - loss: 24.1180 - val_loss: 25.8884\n",
            "Epoch 169/200\n",
            "271/271 [==============================] - 0s 204us/step - loss: 24.4825 - val_loss: 25.6746\n",
            "Epoch 170/200\n",
            "271/271 [==============================] - 0s 199us/step - loss: 24.6683 - val_loss: 25.6348\n",
            "Epoch 171/200\n",
            "271/271 [==============================] - 0s 199us/step - loss: 23.6043 - val_loss: 26.1166\n",
            "Epoch 172/200\n",
            "271/271 [==============================] - 0s 199us/step - loss: 24.3985 - val_loss: 25.3881\n",
            "Epoch 173/200\n",
            "271/271 [==============================] - 0s 200us/step - loss: 23.8464 - val_loss: 26.2125\n",
            "Epoch 174/200\n",
            "271/271 [==============================] - 0s 201us/step - loss: 24.8574 - val_loss: 25.9580\n",
            "Epoch 175/200\n",
            "271/271 [==============================] - 0s 201us/step - loss: 23.8949 - val_loss: 25.4719\n",
            "Epoch 176/200\n",
            "271/271 [==============================] - 0s 199us/step - loss: 24.3279 - val_loss: 25.8836\n",
            "Epoch 177/200\n",
            "271/271 [==============================] - 0s 191us/step - loss: 24.1846 - val_loss: 25.8517\n",
            "Epoch 178/200\n",
            "271/271 [==============================] - 0s 232us/step - loss: 23.6287 - val_loss: 25.4981\n",
            "Epoch 179/200\n",
            "271/271 [==============================] - 0s 201us/step - loss: 23.7951 - val_loss: 25.1250\n",
            "Epoch 180/200\n",
            "271/271 [==============================] - 0s 194us/step - loss: 24.3169 - val_loss: 25.1486\n",
            "Epoch 181/200\n",
            "271/271 [==============================] - 0s 201us/step - loss: 23.3278 - val_loss: 24.8582\n",
            "Epoch 182/200\n",
            "271/271 [==============================] - 0s 199us/step - loss: 23.5875 - val_loss: 24.4035\n",
            "Epoch 183/200\n",
            "271/271 [==============================] - 0s 204us/step - loss: 23.8753 - val_loss: 24.7151\n",
            "Epoch 184/200\n",
            "271/271 [==============================] - 0s 194us/step - loss: 23.9862 - val_loss: 26.1029\n",
            "Epoch 185/200\n",
            "271/271 [==============================] - 0s 203us/step - loss: 23.4051 - val_loss: 24.8615\n",
            "Epoch 186/200\n",
            "271/271 [==============================] - 0s 198us/step - loss: 23.4544 - val_loss: 24.3667\n",
            "Epoch 187/200\n",
            "271/271 [==============================] - 0s 200us/step - loss: 23.8085 - val_loss: 25.1441\n",
            "Epoch 188/200\n",
            "271/271 [==============================] - 0s 200us/step - loss: 23.3643 - val_loss: 24.8766\n",
            "Epoch 189/200\n",
            "271/271 [==============================] - 0s 195us/step - loss: 23.6438 - val_loss: 24.3204\n",
            "Epoch 190/200\n",
            "271/271 [==============================] - 0s 203us/step - loss: 23.1044 - val_loss: 24.3392\n",
            "Epoch 191/200\n",
            "271/271 [==============================] - 0s 204us/step - loss: 23.9891 - val_loss: 24.2906\n",
            "Epoch 192/200\n",
            "271/271 [==============================] - 0s 193us/step - loss: 23.7435 - val_loss: 24.2305\n",
            "Epoch 193/200\n",
            "271/271 [==============================] - 0s 196us/step - loss: 23.3990 - val_loss: 24.5791\n",
            "Epoch 194/200\n",
            "271/271 [==============================] - 0s 200us/step - loss: 23.0732 - val_loss: 25.9781\n",
            "Epoch 195/200\n",
            "271/271 [==============================] - 0s 208us/step - loss: 24.9477 - val_loss: 23.7846\n",
            "Epoch 196/200\n",
            "271/271 [==============================] - 0s 236us/step - loss: 23.2310 - val_loss: 24.1060\n",
            "Epoch 197/200\n",
            "271/271 [==============================] - 0s 202us/step - loss: 23.7676 - val_loss: 24.0894\n",
            "Epoch 198/200\n",
            "271/271 [==============================] - 0s 196us/step - loss: 23.2331 - val_loss: 23.8540\n",
            "Epoch 199/200\n",
            "271/271 [==============================] - 0s 201us/step - loss: 22.9449 - val_loss: 24.8656\n",
            "Epoch 200/200\n",
            "271/271 [==============================] - 0s 202us/step - loss: 23.5459 - val_loss: 24.3466\n",
            "Total Time: 17.138486 \n"
          ],
          "name": "stdout"
        }
      ]
    },
    {
      "cell_type": "code",
      "metadata": {
        "id": "FGn8u3fTpXBv",
        "colab_type": "code",
        "colab": {
          "base_uri": "https://localhost:8080/",
          "height": 34
        },
        "outputId": "a77f3dad-d57c-4d48-b07b-b8d23a6312a8"
      },
      "source": [
        "test_lossDense = model1.evaluate(testX, testY)\n",
        "\n",
        "preds = model1.predict(testX)"
      ],
      "execution_count": 113,
      "outputs": [
        {
          "output_type": "stream",
          "text": [
            "91/91 [==============================] - 0s 118us/step\n"
          ],
          "name": "stdout"
        }
      ]
    },
    {
      "cell_type": "code",
      "metadata": {
        "id": "xv1P8OaxpW--",
        "colab_type": "code",
        "colab": {}
      },
      "source": [
        "diff = preds.flatten() - testY\n",
        "percentDiff = (diff / testY) * 100\n",
        "absPercentDiff = np.abs(percentDiff)"
      ],
      "execution_count": 0,
      "outputs": []
    },
    {
      "cell_type": "code",
      "metadata": {
        "id": "dzbucyl0r-Ri",
        "colab_type": "code",
        "colab": {}
      },
      "source": [
        "mean = np.mean(absPercentDiff)\n",
        "std = np.std(absPercentDiff)"
      ],
      "execution_count": 0,
      "outputs": []
    },
    {
      "cell_type": "code",
      "metadata": {
        "id": "z8xslBtSr-Or",
        "colab_type": "code",
        "colab": {
          "base_uri": "https://localhost:8080/",
          "height": 51
        },
        "outputId": "45fca081-1b56-4eeb-8474-387e1dc8edb9"
      },
      "source": [
        "locale.setlocale(locale.LC_ALL, \"en_US.UTF-8\")\n",
        "print(\"[INFO] avg. house price: {}, std house price: {}\".format(locale.currency(df[\"price\"].mean(), grouping=True),locale.currency(df[\"price\"].std(), grouping=True)))\n",
        "print(\"[INFO] mean: {:.2f}%, std: {:.2f}%\".format(mean, std))"
      ],
      "execution_count": 71,
      "outputs": [
        {
          "output_type": "stream",
          "text": [
            "[INFO] avg. house price: $533,388.27, std house price: $493,403.08\n",
            "[INFO] mean: 21.05%, std: 22.13%\n"
          ],
          "name": "stdout"
        }
      ]
    },
    {
      "cell_type": "code",
      "metadata": {
        "id": "nFR3n0mor-LZ",
        "colab_type": "code",
        "colab": {
          "base_uri": "https://localhost:8080/",
          "height": 295
        },
        "outputId": "1c690943-4200-48fc-eba7-c1b93eacb374"
      },
      "source": [
        "\n",
        "# Plot training & validation loss values\n",
        "plt.plot(history.history['loss'])\n",
        "plt.plot(history.history['val_loss'])\n",
        "plt.title('Model loss')\n",
        "plt.ylabel('Loss')\n",
        "plt.xlabel('Epoch')\n",
        "plt.legend(['Train', 'Test'], loc='upper left')\n",
        "plt.show()"
      ],
      "execution_count": 73,
      "outputs": [
        {
          "output_type": "display_data",
          "data": {
            "image/png": "[encoded data removed]",
            "text/plain": [
              "<Figure size 432x288 with 1 Axes>"
            ]
          },
          "metadata": {
            "tags": []
          }
        }
      ]
    },
    {
      "cell_type": "markdown",
      "metadata": {
        "id": "N8CxfxrgSKOR",
        "colab_type": "text"
      },
      "source": [
        "## CNN with Images"
      ]
    },
    {
      "cell_type": "code",
      "metadata": {
        "id": "u7PxXNwyvMDS",
        "colab_type": "code",
        "colab": {}
      },
      "source": [
        "inputPath = '/content/drive/My Drive/casas/casasBoston/Houses-dataset/Houses Dataset/'\n",
        "images = []\n",
        "\n",
        "for i in df.index.values:\n",
        "  basePath = os.path.sep.join([inputPath, \"{}_*\".format(i + 1)])\n",
        "  housePaths = sorted(list(glob.glob(basePath)))\n",
        "  inputImages = []\n",
        "  outputImage = np.zeros((64, 64, 3), dtype=\"uint8\")\n",
        "  \n",
        "  for housePath in housePaths:\n",
        "    image = cv2.imread(housePath)\n",
        "    image = cv2.resize(image, (32, 32))\n",
        "    inputImages.append(image)\n",
        "\n",
        "  outputImage[0:32, 0:32] = inputImages[0]\n",
        "  outputImage[0:32, 32:64] = inputImages[1]\n",
        "  outputImage[32:64, 32:64] = inputImages[2]\n",
        "  outputImage[32:64, 0:32] = inputImages[3]\n",
        "  images.append(outputImage)"
      ],
      "execution_count": 0,
      "outputs": []
    },
    {
      "cell_type": "code",
      "metadata": {
        "id": "k76huQiQ1V-y",
        "colab_type": "code",
        "colab": {}
      },
      "source": [
        "images = np.array(images)\n",
        "images = images/255.0"
      ],
      "execution_count": 0,
      "outputs": []
    },
    {
      "cell_type": "code",
      "metadata": {
        "id": "AFnso8XS1V8L",
        "colab_type": "code",
        "colab": {}
      },
      "source": [
        "(trainAttrX, testAttrX, trainImagesX, testImagesX) = train_test_split(df, images, test_size=0.25, random_state=42)"
      ],
      "execution_count": 0,
      "outputs": []
    },
    {
      "cell_type": "code",
      "metadata": {
        "id": "EIb6XHxr1V5e",
        "colab_type": "code",
        "colab": {}
      },
      "source": [
        "maxPrice = trainAttrX[\"price\"].max()\n",
        "trainY = trainAttrX[\"price\"] / maxPrice\n",
        "testY = testAttrX[\"price\"] / maxPrice"
      ],
      "execution_count": 0,
      "outputs": []
    },
    {
      "cell_type": "code",
      "metadata": {
        "id": "32DGPLeN1V2a",
        "colab_type": "code",
        "colab": {}
      },
      "source": [
        "def create_cnn(width, height, depth, filters=(16, 32, 64), regress=False):\n",
        "\n",
        "\tinputShape = (height, width, depth)\n",
        "\tchanDim = -1\n",
        "\n",
        "\tinputs = Input(shape=inputShape)\n",
        "\n",
        "\tfor (i, f) in enumerate(filters):\n",
        "\t\tif i == 0:\n",
        "\t\t\tx = inputs\n",
        "\n",
        "\t\tx = Conv2D(f, (3, 3), padding=\"same\")(x)\n",
        "\t\tx = Activation(\"relu\")(x)\n",
        "\t\tx = BatchNormalization(axis=chanDim)(x)\n",
        "\t\tx = MaxPooling2D(pool_size=(2, 2))(x)\n",
        "\n",
        "\tx = Flatten()(x)\n",
        "\tx = Dense(16)(x)\n",
        "\tx = Activation(\"relu\")(x)\n",
        "\tx = BatchNormalization(axis=chanDim)(x)\n",
        "\tx = Dropout(0.5)(x)\n",
        "\n",
        "\tx = Dense(4)(x)\n",
        "\tx = Activation(\"relu\")(x)\n",
        "\n",
        "\tif regress:\n",
        "\t\tx = Dense(1, activation=\"linear\")(x)\n",
        "\n",
        "\tmodel = Model(inputs, x)\n",
        "\n",
        "\treturn model"
      ],
      "execution_count": 0,
      "outputs": []
    },
    {
      "cell_type": "code",
      "metadata": {
        "id": "pM7nkv0W1Vzk",
        "colab_type": "code",
        "colab": {}
      },
      "source": [
        "model2 = create_cnn(64, 64, 3, regress=True)\n",
        "opt = Adam(lr=1e-3, decay=1e-3 / 200)\n",
        "model2.compile(loss=\"mean_absolute_percentage_error\", optimizer=opt)"
      ],
      "execution_count": 0,
      "outputs": []
    },
    {
      "cell_type": "code",
      "metadata": {
        "id": "Dk0f3Bu21Vwr",
        "colab_type": "code",
        "colab": {
          "base_uri": "https://localhost:8080/",
          "height": 6834
        },
        "outputId": "1fdde3da-5d61-4c9a-d986-3a5bd85da2fe"
      },
      "source": [
        "history2 = model2.fit(trainImagesX, trainY, validation_data=(testImagesX, testY),epochs=200, batch_size=8)"
      ],
      "execution_count": 169,
      "outputs": [
        {
          "output_type": "stream",
          "text": [
            "Train on 271 samples, validate on 91 samples\n",
            "Epoch 1/200\n",
            "271/271 [==============================] - 4s 14ms/step - loss: 1551.8885 - val_loss: 814.8942\n",
            "Epoch 2/200\n",
            "271/271 [==============================] - 0s 1ms/step - loss: 887.2231 - val_loss: 672.2385\n",
            "Epoch 3/200\n",
            "271/271 [==============================] - 0s 1ms/step - loss: 624.3974 - val_loss: 671.6264\n",
            "Epoch 4/200\n",
            "271/271 [==============================] - 0s 1ms/step - loss: 569.9937 - val_loss: 536.8730\n",
            "Epoch 5/200\n",
            "271/271 [==============================] - 0s 1ms/step - loss: 436.3897 - val_loss: 376.4310\n",
            "Epoch 6/200\n",
            "271/271 [==============================] - 0s 1ms/step - loss: 475.2227 - val_loss: 231.9366\n",
            "Epoch 7/200\n",
            "271/271 [==============================] - 0s 1ms/step - loss: 356.7876 - val_loss: 228.1142\n",
            "Epoch 8/200\n",
            "271/271 [==============================] - 0s 1ms/step - loss: 304.4992 - val_loss: 106.0673\n",
            "Epoch 9/200\n",
            "271/271 [==============================] - 0s 1ms/step - loss: 270.6245 - val_loss: 215.8803\n",
            "Epoch 10/200\n",
            "271/271 [==============================] - 0s 1ms/step - loss: 229.5427 - val_loss: 118.6215\n",
            "Epoch 11/200\n",
            "271/271 [==============================] - 0s 1ms/step - loss: 178.6971 - val_loss: 149.5596\n",
            "Epoch 12/200\n",
            "271/271 [==============================] - 0s 1ms/step - loss: 179.2396 - val_loss: 80.0830\n",
            "Epoch 13/200\n",
            "271/271 [==============================] - 0s 1ms/step - loss: 145.4936 - val_loss: 95.4027\n",
            "Epoch 14/200\n",
            "271/271 [==============================] - 0s 1ms/step - loss: 147.8994 - val_loss: 101.6911\n",
            "Epoch 15/200\n",
            "271/271 [==============================] - 0s 1ms/step - loss: 147.9108 - val_loss: 140.5786\n",
            "Epoch 16/200\n",
            "271/271 [==============================] - 0s 1ms/step - loss: 127.6068 - val_loss: 84.8504\n",
            "Epoch 17/200\n",
            "271/271 [==============================] - 0s 1ms/step - loss: 94.7265 - val_loss: 90.5114\n",
            "Epoch 18/200\n",
            "271/271 [==============================] - 0s 1ms/step - loss: 110.7046 - val_loss: 124.9360\n",
            "Epoch 19/200\n",
            "271/271 [==============================] - 0s 1ms/step - loss: 106.6903 - val_loss: 85.8270\n",
            "Epoch 20/200\n",
            "271/271 [==============================] - 0s 1ms/step - loss: 122.5249 - val_loss: 89.5621\n",
            "Epoch 21/200\n",
            "271/271 [==============================] - 0s 1ms/step - loss: 86.6191 - val_loss: 80.0706\n",
            "Epoch 22/200\n",
            "271/271 [==============================] - 0s 1ms/step - loss: 80.6995 - val_loss: 77.0961\n",
            "Epoch 23/200\n",
            "271/271 [==============================] - 0s 1ms/step - loss: 77.7078 - val_loss: 76.4179\n",
            "Epoch 24/200\n",
            "271/271 [==============================] - 0s 1ms/step - loss: 88.8007 - val_loss: 77.3608\n",
            "Epoch 25/200\n",
            "271/271 [==============================] - 0s 1ms/step - loss: 89.2934 - val_loss: 74.4530\n",
            "Epoch 26/200\n",
            "271/271 [==============================] - 0s 1ms/step - loss: 69.2370 - val_loss: 103.4071\n",
            "Epoch 27/200\n",
            "271/271 [==============================] - 0s 1ms/step - loss: 81.8281 - val_loss: 82.0026\n",
            "Epoch 28/200\n",
            "271/271 [==============================] - 0s 1ms/step - loss: 68.8162 - val_loss: 74.2701\n",
            "Epoch 29/200\n",
            "271/271 [==============================] - 0s 1ms/step - loss: 63.2629 - val_loss: 66.4042\n",
            "Epoch 30/200\n",
            "271/271 [==============================] - 0s 1ms/step - loss: 67.7480 - val_loss: 87.0819\n",
            "Epoch 31/200\n",
            "271/271 [==============================] - 0s 1ms/step - loss: 66.9784 - val_loss: 83.5129\n",
            "Epoch 32/200\n",
            "271/271 [==============================] - 0s 1ms/step - loss: 70.7149 - val_loss: 76.0461\n",
            "Epoch 33/200\n",
            "271/271 [==============================] - 0s 1ms/step - loss: 63.1360 - val_loss: 72.9340\n",
            "Epoch 34/200\n",
            "271/271 [==============================] - 0s 1ms/step - loss: 66.5195 - val_loss: 70.2818\n",
            "Epoch 35/200\n",
            "271/271 [==============================] - 0s 1ms/step - loss: 64.0901 - val_loss: 73.7587\n",
            "Epoch 36/200\n",
            "271/271 [==============================] - 0s 1ms/step - loss: 58.8841 - val_loss: 67.9488\n",
            "Epoch 37/200\n",
            "271/271 [==============================] - 0s 1ms/step - loss: 69.7744 - val_loss: 86.7478\n",
            "Epoch 38/200\n",
            "271/271 [==============================] - 0s 1ms/step - loss: 62.4700 - val_loss: 66.4704\n",
            "Epoch 39/200\n",
            "271/271 [==============================] - 0s 1ms/step - loss: 58.8695 - val_loss: 55.6882\n",
            "Epoch 40/200\n",
            "271/271 [==============================] - 0s 1ms/step - loss: 70.7407 - val_loss: 63.8680\n",
            "Epoch 41/200\n",
            "271/271 [==============================] - 0s 1ms/step - loss: 68.7670 - val_loss: 74.1051\n",
            "Epoch 42/200\n",
            "271/271 [==============================] - 0s 1ms/step - loss: 64.4363 - val_loss: 81.2498\n",
            "Epoch 43/200\n",
            "271/271 [==============================] - 0s 1ms/step - loss: 70.5937 - val_loss: 92.5122\n",
            "Epoch 44/200\n",
            "271/271 [==============================] - 0s 1ms/step - loss: 59.2701 - val_loss: 80.3151\n",
            "Epoch 45/200\n",
            "271/271 [==============================] - 0s 1ms/step - loss: 63.3055 - val_loss: 63.3878\n",
            "Epoch 46/200\n",
            "271/271 [==============================] - 0s 1ms/step - loss: 58.1386 - val_loss: 63.6884\n",
            "Epoch 47/200\n",
            "271/271 [==============================] - 0s 1ms/step - loss: 54.3337 - val_loss: 66.4243\n",
            "Epoch 48/200\n",
            "271/271 [==============================] - 0s 1ms/step - loss: 55.9449 - val_loss: 63.5817\n",
            "Epoch 49/200\n",
            "271/271 [==============================] - 0s 1ms/step - loss: 61.8091 - val_loss: 57.4995\n",
            "Epoch 50/200\n",
            "271/271 [==============================] - 0s 1ms/step - loss: 55.7668 - val_loss: 58.8681\n",
            "Epoch 51/200\n",
            "271/271 [==============================] - 0s 1ms/step - loss: 54.4583 - val_loss: 60.7933\n",
            "Epoch 52/200\n",
            "271/271 [==============================] - 0s 1ms/step - loss: 60.2299 - val_loss: 62.2543\n",
            "Epoch 53/200\n",
            "271/271 [==============================] - 0s 1ms/step - loss: 61.1567 - val_loss: 57.1688\n",
            "Epoch 54/200\n",
            "271/271 [==============================] - 0s 1ms/step - loss: 56.9247 - val_loss: 57.4865\n",
            "Epoch 55/200\n",
            "271/271 [==============================] - 0s 1ms/step - loss: 55.0208 - val_loss: 60.3659\n",
            "Epoch 56/200\n",
            "271/271 [==============================] - 0s 1ms/step - loss: 59.2240 - val_loss: 64.0186\n",
            "Epoch 57/200\n",
            "271/271 [==============================] - 0s 1ms/step - loss: 136.6703 - val_loss: 572.3138\n",
            "Epoch 58/200\n",
            "271/271 [==============================] - 0s 1ms/step - loss: 71.1111 - val_loss: 85.1039\n",
            "Epoch 59/200\n",
            "271/271 [==============================] - 0s 1ms/step - loss: 66.1274 - val_loss: 66.4789\n",
            "Epoch 60/200\n",
            "271/271 [==============================] - 0s 1ms/step - loss: 63.4199 - val_loss: 63.0650\n",
            "Epoch 61/200\n",
            "271/271 [==============================] - 0s 1ms/step - loss: 58.5775 - val_loss: 64.0623\n",
            "Epoch 62/200\n",
            "271/271 [==============================] - 0s 1ms/step - loss: 67.1067 - val_loss: 74.7308\n",
            "Epoch 63/200\n",
            "271/271 [==============================] - 0s 1ms/step - loss: 58.1827 - val_loss: 73.3136\n",
            "Epoch 64/200\n",
            "271/271 [==============================] - 0s 1ms/step - loss: 60.9328 - val_loss: 76.3888\n",
            "Epoch 65/200\n",
            "271/271 [==============================] - 0s 1ms/step - loss: 74.9055 - val_loss: 64.9594\n",
            "Epoch 66/200\n",
            "271/271 [==============================] - 0s 1ms/step - loss: 56.9305 - val_loss: 67.0177\n",
            "Epoch 67/200\n",
            "271/271 [==============================] - 0s 1ms/step - loss: 57.5635 - val_loss: 66.0646\n",
            "Epoch 68/200\n",
            "271/271 [==============================] - 0s 1ms/step - loss: 50.7756 - val_loss: 61.8004\n",
            "Epoch 69/200\n",
            "271/271 [==============================] - 0s 1ms/step - loss: 63.2459 - val_loss: 52.3198\n",
            "Epoch 70/200\n",
            "271/271 [==============================] - 0s 1ms/step - loss: 49.1985 - val_loss: 62.2890\n",
            "Epoch 71/200\n",
            "271/271 [==============================] - 0s 1ms/step - loss: 60.1246 - val_loss: 72.0527\n",
            "Epoch 72/200\n",
            "271/271 [==============================] - 0s 1ms/step - loss: 70.2778 - val_loss: 70.7169\n",
            "Epoch 73/200\n",
            "271/271 [==============================] - 0s 1ms/step - loss: 60.6710 - val_loss: 136.1350\n",
            "Epoch 74/200\n",
            "271/271 [==============================] - 0s 1ms/step - loss: 58.0930 - val_loss: 104.3078\n",
            "Epoch 75/200\n",
            "271/271 [==============================] - 0s 1ms/step - loss: 56.5900 - val_loss: 86.9507\n",
            "Epoch 76/200\n",
            "271/271 [==============================] - 0s 1ms/step - loss: 55.0951 - val_loss: 68.2369\n",
            "Epoch 77/200\n",
            "271/271 [==============================] - 0s 1ms/step - loss: 56.2630 - val_loss: 67.4944\n",
            "Epoch 78/200\n",
            "271/271 [==============================] - 0s 1ms/step - loss: 62.9256 - val_loss: 70.4327\n",
            "Epoch 79/200\n",
            "271/271 [==============================] - 0s 1ms/step - loss: 64.4765 - val_loss: 116.0356\n",
            "Epoch 80/200\n",
            "271/271 [==============================] - 0s 1ms/step - loss: 59.7709 - val_loss: 75.6546\n",
            "Epoch 81/200\n",
            "271/271 [==============================] - 0s 1ms/step - loss: 61.0844 - val_loss: 83.0128\n",
            "Epoch 82/200\n",
            "271/271 [==============================] - 0s 1ms/step - loss: 63.5451 - val_loss: 96.1540\n",
            "Epoch 83/200\n",
            "271/271 [==============================] - 0s 1ms/step - loss: 64.5268 - val_loss: 83.3415\n",
            "Epoch 84/200\n",
            "271/271 [==============================] - 0s 1ms/step - loss: 55.1741 - val_loss: 71.2170\n",
            "Epoch 85/200\n",
            "271/271 [==============================] - 0s 1ms/step - loss: 65.0234 - val_loss: 106.9327\n",
            "Epoch 86/200\n",
            "271/271 [==============================] - 0s 1ms/step - loss: 56.6825 - val_loss: 63.4075\n",
            "Epoch 87/200\n",
            "271/271 [==============================] - 0s 1ms/step - loss: 53.0186 - val_loss: 65.5283\n",
            "Epoch 88/200\n",
            "271/271 [==============================] - 0s 1ms/step - loss: 52.5110 - val_loss: 60.8411\n",
            "Epoch 89/200\n",
            "271/271 [==============================] - 0s 1ms/step - loss: 51.5363 - val_loss: 67.8338\n",
            "Epoch 90/200\n",
            "271/271 [==============================] - 0s 1ms/step - loss: 50.4516 - val_loss: 60.3124\n",
            "Epoch 91/200\n",
            "271/271 [==============================] - 0s 1ms/step - loss: 57.3175 - val_loss: 61.9759\n",
            "Epoch 92/200\n",
            "271/271 [==============================] - 0s 1ms/step - loss: 49.2802 - val_loss: 66.7254\n",
            "Epoch 93/200\n",
            "271/271 [==============================] - 0s 1ms/step - loss: 54.3122 - val_loss: 62.6627\n",
            "Epoch 94/200\n",
            "271/271 [==============================] - 0s 1ms/step - loss: 54.2200 - val_loss: 279.4913\n",
            "Epoch 95/200\n",
            "271/271 [==============================] - 0s 1ms/step - loss: 58.1285 - val_loss: 73.4381\n",
            "Epoch 96/200\n",
            "271/271 [==============================] - 0s 1ms/step - loss: 49.4537 - val_loss: 64.1019\n",
            "Epoch 97/200\n",
            "271/271 [==============================] - 0s 1ms/step - loss: 54.3472 - val_loss: 65.4766\n",
            "Epoch 98/200\n",
            "271/271 [==============================] - 0s 1ms/step - loss: 51.4595 - val_loss: 68.0180\n",
            "Epoch 99/200\n",
            "271/271 [==============================] - 0s 1ms/step - loss: 50.9889 - val_loss: 58.3182\n",
            "Epoch 100/200\n",
            "271/271 [==============================] - 0s 1ms/step - loss: 47.5470 - val_loss: 67.3484\n",
            "Epoch 101/200\n",
            "271/271 [==============================] - 0s 1ms/step - loss: 49.9223 - val_loss: 68.3944\n",
            "Epoch 102/200\n",
            "271/271 [==============================] - 0s 1ms/step - loss: 46.8732 - val_loss: 67.9218\n",
            "Epoch 103/200\n",
            "271/271 [==============================] - 0s 1ms/step - loss: 47.8370 - val_loss: 65.3952\n",
            "Epoch 104/200\n",
            "271/271 [==============================] - 0s 1ms/step - loss: 56.0922 - val_loss: 105.7892\n",
            "Epoch 105/200\n",
            "271/271 [==============================] - 0s 1ms/step - loss: 47.1883 - val_loss: 93.8513\n",
            "Epoch 106/200\n",
            "271/271 [==============================] - 0s 1ms/step - loss: 49.2358 - val_loss: 77.6581\n",
            "Epoch 107/200\n",
            "271/271 [==============================] - 0s 1ms/step - loss: 50.7360 - val_loss: 62.1904\n",
            "Epoch 108/200\n",
            "271/271 [==============================] - 0s 1ms/step - loss: 54.2739 - val_loss: 55.5297\n",
            "Epoch 109/200\n",
            "271/271 [==============================] - 0s 1ms/step - loss: 53.1267 - val_loss: 68.9390\n",
            "Epoch 110/200\n",
            "271/271 [==============================] - 0s 1ms/step - loss: 57.0583 - val_loss: 67.8562\n",
            "Epoch 111/200\n",
            "271/271 [==============================] - 0s 1ms/step - loss: 45.5436 - val_loss: 65.4454\n",
            "Epoch 112/200\n",
            "271/271 [==============================] - 0s 1ms/step - loss: 51.6546 - val_loss: 56.0363\n",
            "Epoch 113/200\n",
            "271/271 [==============================] - 0s 1ms/step - loss: 46.1883 - val_loss: 64.2812\n",
            "Epoch 114/200\n",
            "271/271 [==============================] - 0s 1ms/step - loss: 48.0292 - val_loss: 74.2958\n",
            "Epoch 115/200\n",
            "271/271 [==============================] - 0s 1ms/step - loss: 52.6410 - val_loss: 118.5459\n",
            "Epoch 116/200\n",
            "271/271 [==============================] - 0s 1ms/step - loss: 57.4970 - val_loss: 89.0339\n",
            "Epoch 117/200\n",
            "271/271 [==============================] - 0s 1ms/step - loss: 49.5187 - val_loss: 64.6605\n",
            "Epoch 118/200\n",
            "271/271 [==============================] - 0s 1ms/step - loss: 53.8196 - val_loss: 56.8666\n",
            "Epoch 119/200\n",
            "271/271 [==============================] - 0s 1ms/step - loss: 48.5312 - val_loss: 78.8305\n",
            "Epoch 120/200\n",
            "271/271 [==============================] - 0s 1ms/step - loss: 57.8325 - val_loss: 60.0951\n",
            "Epoch 121/200\n",
            "271/271 [==============================] - 0s 1ms/step - loss: 53.1271 - val_loss: 65.4326\n",
            "Epoch 122/200\n",
            "271/271 [==============================] - 0s 1ms/step - loss: 54.1368 - val_loss: 66.2677\n",
            "Epoch 123/200\n",
            "271/271 [==============================] - 0s 1ms/step - loss: 55.7714 - val_loss: 71.6035\n",
            "Epoch 124/200\n",
            "271/271 [==============================] - 0s 1ms/step - loss: 80.3520 - val_loss: 105.6573\n",
            "Epoch 125/200\n",
            "271/271 [==============================] - 0s 1ms/step - loss: 59.1427 - val_loss: 116.5049\n",
            "Epoch 126/200\n",
            "271/271 [==============================] - 0s 1ms/step - loss: 58.7374 - val_loss: 107.1727\n",
            "Epoch 127/200\n",
            "271/271 [==============================] - 0s 1ms/step - loss: 56.3464 - val_loss: 71.3084\n",
            "Epoch 128/200\n",
            "271/271 [==============================] - 0s 1ms/step - loss: 57.3311 - val_loss: 67.5285\n",
            "Epoch 129/200\n",
            "271/271 [==============================] - 0s 1ms/step - loss: 54.1162 - val_loss: 65.6568\n",
            "Epoch 130/200\n",
            "271/271 [==============================] - 0s 1ms/step - loss: 54.3261 - val_loss: 66.4611\n",
            "Epoch 131/200\n",
            "271/271 [==============================] - 0s 1ms/step - loss: 57.6121 - val_loss: 71.8993\n",
            "Epoch 132/200\n",
            "271/271 [==============================] - 0s 1ms/step - loss: 55.5544 - val_loss: 64.3723\n",
            "Epoch 133/200\n",
            "271/271 [==============================] - 0s 1ms/step - loss: 49.1434 - val_loss: 61.6306\n",
            "Epoch 134/200\n",
            "271/271 [==============================] - 0s 1ms/step - loss: 52.6962 - val_loss: 58.0365\n",
            "Epoch 135/200\n",
            "271/271 [==============================] - 0s 1ms/step - loss: 51.5775 - val_loss: 59.1979\n",
            "Epoch 136/200\n",
            "271/271 [==============================] - 0s 1ms/step - loss: 49.0653 - val_loss: 59.4496\n",
            "Epoch 137/200\n",
            "271/271 [==============================] - 0s 1ms/step - loss: 46.8830 - val_loss: 64.1502\n",
            "Epoch 138/200\n",
            "271/271 [==============================] - 0s 1ms/step - loss: 55.4055 - val_loss: 71.9485\n",
            "Epoch 139/200\n",
            "271/271 [==============================] - 0s 1ms/step - loss: 58.3677 - val_loss: 71.8773\n",
            "Epoch 140/200\n",
            "271/271 [==============================] - 0s 1ms/step - loss: 56.4091 - val_loss: 71.1917\n",
            "Epoch 141/200\n",
            "271/271 [==============================] - 0s 1ms/step - loss: 54.4571 - val_loss: 96.0726\n",
            "Epoch 142/200\n",
            "271/271 [==============================] - 0s 1ms/step - loss: 57.7100 - val_loss: 63.2138\n",
            "Epoch 143/200\n",
            "271/271 [==============================] - 0s 1ms/step - loss: 55.0332 - val_loss: 54.9611\n",
            "Epoch 144/200\n",
            "271/271 [==============================] - 0s 1ms/step - loss: 51.9253 - val_loss: 70.3265\n",
            "Epoch 145/200\n",
            "271/271 [==============================] - 0s 1ms/step - loss: 48.9939 - val_loss: 66.7974\n",
            "Epoch 146/200\n",
            "271/271 [==============================] - 0s 1ms/step - loss: 53.9476 - val_loss: 72.0001\n",
            "Epoch 147/200\n",
            "271/271 [==============================] - 0s 1ms/step - loss: 50.2110 - val_loss: 71.8293\n",
            "Epoch 148/200\n",
            "271/271 [==============================] - 0s 1ms/step - loss: 49.7105 - val_loss: 69.2936\n",
            "Epoch 149/200\n",
            "271/271 [==============================] - 0s 1ms/step - loss: 51.1413 - val_loss: 70.2555\n",
            "Epoch 150/200\n",
            "271/271 [==============================] - 0s 1ms/step - loss: 49.2753 - val_loss: 56.6967\n",
            "Epoch 151/200\n",
            "271/271 [==============================] - 0s 1ms/step - loss: 48.8556 - val_loss: 59.1031\n",
            "Epoch 152/200\n",
            "271/271 [==============================] - 0s 1ms/step - loss: 55.6598 - val_loss: 60.5337\n",
            "Epoch 153/200\n",
            "271/271 [==============================] - 0s 1ms/step - loss: 52.6844 - val_loss: 59.5448\n",
            "Epoch 154/200\n",
            "271/271 [==============================] - 0s 1ms/step - loss: 50.8873 - val_loss: 60.0802\n",
            "Epoch 155/200\n",
            "271/271 [==============================] - 0s 1ms/step - loss: 51.5762 - val_loss: 52.1658\n",
            "Epoch 156/200\n",
            "271/271 [==============================] - 0s 1ms/step - loss: 53.6898 - val_loss: 58.7120\n",
            "Epoch 157/200\n",
            "271/271 [==============================] - 0s 1ms/step - loss: 53.9687 - val_loss: 53.7619\n",
            "Epoch 158/200\n",
            "271/271 [==============================] - 0s 1ms/step - loss: 51.7247 - val_loss: 57.3413\n",
            "Epoch 159/200\n",
            "271/271 [==============================] - 0s 1ms/step - loss: 53.9495 - val_loss: 60.5514\n",
            "Epoch 160/200\n",
            "271/271 [==============================] - 0s 1ms/step - loss: 53.2116 - val_loss: 53.2169\n",
            "Epoch 161/200\n",
            "271/271 [==============================] - 0s 1ms/step - loss: 53.6733 - val_loss: 93.3604\n",
            "Epoch 162/200\n",
            "271/271 [==============================] - 0s 1ms/step - loss: 55.6580 - val_loss: 60.7052\n",
            "Epoch 163/200\n",
            "271/271 [==============================] - 0s 1ms/step - loss: 49.3507 - val_loss: 53.9938\n",
            "Epoch 164/200\n",
            "271/271 [==============================] - 0s 1ms/step - loss: 54.0312 - val_loss: 56.0913\n",
            "Epoch 165/200\n",
            "271/271 [==============================] - 0s 1ms/step - loss: 47.9896 - val_loss: 59.9960\n",
            "Epoch 166/200\n",
            "271/271 [==============================] - 0s 1ms/step - loss: 48.1000 - val_loss: 60.5307\n",
            "Epoch 167/200\n",
            "271/271 [==============================] - 0s 1ms/step - loss: 48.5227 - val_loss: 61.0632\n",
            "Epoch 168/200\n",
            "271/271 [==============================] - 0s 1ms/step - loss: 47.1635 - val_loss: 58.5379\n",
            "Epoch 169/200\n",
            "271/271 [==============================] - 0s 1ms/step - loss: 51.1891 - val_loss: 62.3587\n",
            "Epoch 170/200\n",
            "271/271 [==============================] - 0s 1ms/step - loss: 51.0092 - val_loss: 64.3964\n",
            "Epoch 171/200\n",
            "271/271 [==============================] - 0s 1ms/step - loss: 49.8803 - val_loss: 60.5056\n",
            "Epoch 172/200\n",
            "271/271 [==============================] - 0s 1ms/step - loss: 53.1953 - val_loss: 59.0470\n",
            "Epoch 173/200\n",
            "271/271 [==============================] - 0s 1ms/step - loss: 50.3940 - val_loss: 63.8791\n",
            "Epoch 174/200\n",
            "271/271 [==============================] - 0s 1ms/step - loss: 49.4885 - val_loss: 55.8648\n",
            "Epoch 175/200\n",
            "271/271 [==============================] - 0s 1ms/step - loss: 45.2957 - val_loss: 61.0353\n",
            "Epoch 176/200\n",
            "271/271 [==============================] - 0s 1ms/step - loss: 49.3107 - val_loss: 111.8173\n",
            "Epoch 177/200\n",
            "271/271 [==============================] - 0s 1ms/step - loss: 46.1659 - val_loss: 60.8867\n",
            "Epoch 178/200\n",
            "271/271 [==============================] - 0s 1ms/step - loss: 46.6698 - val_loss: 315.4784\n",
            "Epoch 179/200\n",
            "271/271 [==============================] - 0s 1ms/step - loss: 47.7223 - val_loss: 159.8206\n",
            "Epoch 180/200\n",
            "271/271 [==============================] - 0s 1ms/step - loss: 48.7325 - val_loss: 234.0686\n",
            "Epoch 181/200\n",
            "271/271 [==============================] - 0s 1ms/step - loss: 46.8702 - val_loss: 78.3267\n",
            "Epoch 182/200\n",
            "271/271 [==============================] - 0s 1ms/step - loss: 46.0630 - val_loss: 55.0658\n",
            "Epoch 183/200\n",
            "271/271 [==============================] - 0s 1ms/step - loss: 45.5678 - val_loss: 66.2883\n",
            "Epoch 184/200\n",
            "271/271 [==============================] - 0s 1ms/step - loss: 55.7218 - val_loss: 64.0904\n",
            "Epoch 185/200\n",
            "271/271 [==============================] - 0s 1ms/step - loss: 61.5963 - val_loss: 55.5541\n",
            "Epoch 186/200\n",
            "271/271 [==============================] - 0s 1ms/step - loss: 59.1273 - val_loss: 75.8677\n",
            "Epoch 187/200\n",
            "271/271 [==============================] - 0s 1ms/step - loss: 53.5531 - val_loss: 66.0785\n",
            "Epoch 188/200\n",
            "271/271 [==============================] - 0s 1ms/step - loss: 50.4089 - val_loss: 55.7554\n",
            "Epoch 189/200\n",
            "271/271 [==============================] - 0s 1ms/step - loss: 52.3348 - val_loss: 91.2582\n",
            "Epoch 190/200\n",
            "271/271 [==============================] - 0s 1ms/step - loss: 55.3681 - val_loss: 70.8046\n",
            "Epoch 191/200\n",
            "271/271 [==============================] - 0s 1ms/step - loss: 53.0751 - val_loss: 55.3652\n",
            "Epoch 192/200\n",
            "271/271 [==============================] - 0s 1ms/step - loss: 52.6282 - val_loss: 61.7331\n",
            "Epoch 193/200\n",
            "271/271 [==============================] - 0s 1ms/step - loss: 46.2782 - val_loss: 69.1204\n",
            "Epoch 194/200\n",
            "271/271 [==============================] - 0s 1ms/step - loss: 47.8552 - val_loss: 62.9820\n",
            "Epoch 195/200\n",
            "271/271 [==============================] - 0s 1ms/step - loss: 56.2509 - val_loss: 53.7207\n",
            "Epoch 196/200\n",
            "271/271 [==============================] - 0s 1ms/step - loss: 54.0154 - val_loss: 51.7734\n",
            "Epoch 197/200\n",
            "271/271 [==============================] - 0s 1ms/step - loss: 47.6523 - val_loss: 58.5388\n",
            "Epoch 198/200\n",
            "271/271 [==============================] - 0s 1ms/step - loss: 48.6511 - val_loss: 62.7071\n",
            "Epoch 199/200\n",
            "271/271 [==============================] - 0s 1ms/step - loss: 54.0297 - val_loss: 57.0843\n",
            "Epoch 200/200\n",
            "271/271 [==============================] - 0s 1ms/step - loss: 47.1884 - val_loss: 52.9386\n"
          ],
          "name": "stdout"
        }
      ]
    },
    {
      "cell_type": "code",
      "metadata": {
        "id": "3f4zZl-X1Vig",
        "colab_type": "code",
        "colab": {}
      },
      "source": [
        "preds = model2.predict(testImagesX)"
      ],
      "execution_count": 0,
      "outputs": []
    },
    {
      "cell_type": "code",
      "metadata": {
        "id": "GwshZkAc558f",
        "colab_type": "code",
        "colab": {}
      },
      "source": [
        "diff = preds.flatten() - testY\n",
        "percentDiff = (diff / testY) * 100\n",
        "absPercentDiff = np.abs(percentDiff)"
      ],
      "execution_count": 0,
      "outputs": []
    },
    {
      "cell_type": "code",
      "metadata": {
        "id": "xdKRcIf7555t",
        "colab_type": "code",
        "colab": {}
      },
      "source": [
        "mean = np.mean(absPercentDiff)\n",
        "std = np.std(absPercentDiff)"
      ],
      "execution_count": 0,
      "outputs": []
    },
    {
      "cell_type": "code",
      "metadata": {
        "id": "uu8-EOlN5516",
        "colab_type": "code",
        "colab": {
          "base_uri": "https://localhost:8080/",
          "height": 51
        },
        "outputId": "4ff67930-01a4-4f84-a01d-9aa013aa234a"
      },
      "source": [
        "locale.setlocale(locale.LC_ALL, \"en_US.UTF-8\")\n",
        "print(\"[INFO] avg. house price: {}, std house price: {}\".format(\n",
        "    locale.currency(df[\"price\"].mean(), grouping=True),\n",
        "    locale.currency(df[\"price\"].std(), grouping=True)))\n",
        "print(\"[INFO] mean: {:.2f}%, std: {:.2f}%\".format(mean, std))"
      ],
      "execution_count": 173,
      "outputs": [
        {
          "output_type": "stream",
          "text": [
            "[INFO] avg. house price: $533,388.27, std house price: $493,403.08\n",
            "[INFO] mean: 52.94%, std: 91.42%\n"
          ],
          "name": "stdout"
        }
      ]
    },
    {
      "cell_type": "markdown",
      "metadata": {
        "id": "5l_qLqRqSRKi",
        "colab_type": "text"
      },
      "source": [
        "## Combine the models"
      ]
    },
    {
      "cell_type": "code",
      "metadata": {
        "id": "cl1pQ0Z7-cpt",
        "colab_type": "code",
        "colab": {
          "base_uri": "https://localhost:8080/",
          "height": 76
        },
        "outputId": "84a0504e-c2cd-436e-8b3c-5a294a98a6d2"
      },
      "source": [
        "continuous = [\"bedrooms\", \"bathrooms\", \"area\"]\n",
        "cs = MinMaxScaler()\n",
        "trainContinuous = cs.fit_transform(train[continuous])\n",
        "testContinuous = cs.transform(test[continuous])\n",
        "\n",
        "zipBinarizer = LabelBinarizer().fit(df[\"zipcode\"])\n",
        "trainCategorical = zipBinarizer.transform(train[\"zipcode\"])\n",
        "testCategorical = zipBinarizer.transform(test[\"zipcode\"])\n",
        "\n",
        "trainX = np.hstack([trainCategorical, trainContinuous])\n",
        "testX = np.hstack([testCategorical, testContinuous])"
      ],
      "execution_count": 123,
      "outputs": [
        {
          "output_type": "stream",
          "text": [
            "/usr/local/lib/python3.6/dist-packages/sklearn/preprocessing/data.py:334: DataConversionWarning: Data with input dtype int64, float64 were all converted to float64 by MinMaxScaler.\n",
            "  return self.partial_fit(X, y)\n"
          ],
          "name": "stderr"
        }
      ]
    },
    {
      "cell_type": "code",
      "metadata": {
        "colab_type": "code",
        "id": "yic8coQZAZgG",
        "colab": {}
      },
      "source": [
        "inputPath = '/content/drive/My Drive/casas/casasBoston/Houses-dataset/Houses Dataset/'\n",
        "images = []\n",
        "\n",
        "for i in df.index.values:\n",
        "  basePath = os.path.sep.join([inputPath, \"{}_*\".format(i + 1)])\n",
        "  housePaths = sorted(list(glob.glob(basePath)))\n",
        "  inputImages = []\n",
        "  outputImage = np.zeros((64, 64, 3), dtype=\"uint8\")\n",
        "  \n",
        "  for housePath in housePaths:\n",
        "    image = cv2.imread(housePath)\n",
        "    image = cv2.resize(image, (32, 32))\n",
        "    inputImages.append(image)\n",
        "\n",
        "  outputImage[0:32, 0:32] = inputImages[0]\n",
        "  outputImage[0:32, 32:64] = inputImages[1]\n",
        "  outputImage[32:64, 32:64] = inputImages[2]\n",
        "  outputImage[32:64, 0:32] = inputImages[3]\n",
        "  \n",
        "  images.append(outputImage)"
      ],
      "execution_count": 0,
      "outputs": []
    },
    {
      "cell_type": "code",
      "metadata": {
        "colab_type": "code",
        "id": "ZXAYyk8DAZgK",
        "colab": {}
      },
      "source": [
        "images = np.array(images)\n",
        "images = images/255.0"
      ],
      "execution_count": 0,
      "outputs": []
    },
    {
      "cell_type": "code",
      "metadata": {
        "colab_type": "code",
        "id": "B_9GuHLcAZgN",
        "colab": {}
      },
      "source": [
        "(trainAttrX, testAttrX, trainImagesX, testImagesX) = train_test_split(df, images, test_size=0.25, random_state=42)\n"
      ],
      "execution_count": 0,
      "outputs": []
    },
    {
      "cell_type": "code",
      "metadata": {
        "colab_type": "code",
        "id": "gHFlrsgDAZgP",
        "colab": {}
      },
      "source": [
        "maxPrice = trainAttrX[\"price\"].max()\n",
        "trainY = trainAttrX[\"price\"] / maxPrice\n",
        "testY = testAttrX[\"price\"] / maxPrice"
      ],
      "execution_count": 0,
      "outputs": []
    },
    {
      "cell_type": "code",
      "metadata": {
        "id": "pztuBP0XCqNc",
        "colab_type": "code",
        "colab": {}
      },
      "source": [
        "def create_mlp(dim, regress=False):\n",
        "\t# define our MLP network\n",
        "\tmodel = Sequential()\n",
        "\tmodel.add(Dense(8, input_dim=dim, activation=\"relu\"))\n",
        "\tmodel.add(Dense(4, activation=\"relu\"))\n",
        "  \n",
        "  if regress:\n",
        "\t\tmodel.add(Dense(1, activation=\"linear\"))\n",
        "\n",
        "\treturn model"
      ],
      "execution_count": 0,
      "outputs": []
    },
    {
      "cell_type": "code",
      "metadata": {
        "id": "fLFAVz2Q8U-z",
        "colab_type": "code",
        "colab": {}
      },
      "source": [
        "mlp = create_mlp(trainAttrX.shape[1], regress=False)\n",
        "cnn = create_cnn(64, 64, 3, regress=False)\n",
        "\n",
        "combinedInput = concatenate([mlp.output, cnn.output])\n",
        " \n",
        "x = Dense(4, activation=\"relu\")(combinedInput)\n",
        "x = Dense(1, activation=\"linear\")(x)\n",
        " \n",
        "modelF = Model(inputs=[mlp.input, cnn.input], outputs=x)"
      ],
      "execution_count": 0,
      "outputs": []
    },
    {
      "cell_type": "code",
      "metadata": {
        "id": "vy7Wdgho8U7c",
        "colab_type": "code",
        "colab": {
          "base_uri": "https://localhost:8080/",
          "height": 6834
        },
        "outputId": "2194d61c-fca0-4689-8d4f-b794229c98e9"
      },
      "source": [
        "opt = Adam(lr=1e-3, decay=1e-3 / 200)\n",
        "modelF.compile(loss=\"mape\", optimizer=opt)\n",
        " \n",
        "modelF.fit([trainAttrX, trainImagesX], trainY, validation_data=([testAttrX, testImagesX], testY),epochs=200, batch_size=8)\n",
        "\n",
        "preds = modelF.predict([testAttrX, testImagesX])"
      ],
      "execution_count": 149,
      "outputs": [
        {
          "output_type": "stream",
          "text": [
            "Train on 271 samples, validate on 91 samples\n",
            "Epoch 1/200\n",
            "271/271 [==============================] - 3s 12ms/step - loss: 32.3720 - val_loss: 1110.1322\n",
            "Epoch 2/200\n",
            "271/271 [==============================] - 0s 1ms/step - loss: 34.6896 - val_loss: 1062.5939\n",
            "Epoch 3/200\n",
            "271/271 [==============================] - 0s 2ms/step - loss: 34.7522 - val_loss: 1014.1627\n",
            "Epoch 4/200\n",
            "271/271 [==============================] - 0s 1ms/step - loss: 29.8905 - val_loss: 997.1898\n",
            "Epoch 5/200\n",
            "271/271 [==============================] - 0s 1ms/step - loss: 29.0915 - val_loss: 1374.5458\n",
            "Epoch 6/200\n",
            "271/271 [==============================] - 0s 1ms/step - loss: 30.7741 - val_loss: 191947.3870\n",
            "Epoch 7/200\n",
            "271/271 [==============================] - 0s 1ms/step - loss: 28.9804 - val_loss: 209.5709\n",
            "Epoch 8/200\n",
            "271/271 [==============================] - 0s 2ms/step - loss: 33.1930 - val_loss: 169172.7793\n",
            "Epoch 9/200\n",
            "271/271 [==============================] - 0s 1ms/step - loss: 26.6814 - val_loss: 516000.2905\n",
            "Epoch 10/200\n",
            "271/271 [==============================] - 0s 1ms/step - loss: 35.1154 - val_loss: 157.1932\n",
            "Epoch 11/200\n",
            "271/271 [==============================] - 0s 1ms/step - loss: 26.3900 - val_loss: 2043.1555\n",
            "Epoch 12/200\n",
            "271/271 [==============================] - 0s 2ms/step - loss: 28.3183 - val_loss: 252.3044\n",
            "Epoch 13/200\n",
            "271/271 [==============================] - 0s 1ms/step - loss: 29.3603 - val_loss: 259.6111\n",
            "Epoch 14/200\n",
            "271/271 [==============================] - 0s 1ms/step - loss: 30.8909 - val_loss: 190.4313\n",
            "Epoch 15/200\n",
            "271/271 [==============================] - 0s 1ms/step - loss: 28.8897 - val_loss: 130852.2715\n",
            "Epoch 16/200\n",
            "271/271 [==============================] - 0s 2ms/step - loss: 32.7317 - val_loss: 3116.6125\n",
            "Epoch 17/200\n",
            "271/271 [==============================] - 0s 1ms/step - loss: 32.2806 - val_loss: 5975.0605\n",
            "Epoch 18/200\n",
            "271/271 [==============================] - 0s 2ms/step - loss: 34.3399 - val_loss: 72.0125\n",
            "Epoch 19/200\n",
            "271/271 [==============================] - 0s 1ms/step - loss: 26.0745 - val_loss: 73.9809\n",
            "Epoch 20/200\n",
            "271/271 [==============================] - 0s 1ms/step - loss: 29.6409 - val_loss: 170.0368\n",
            "Epoch 21/200\n",
            "271/271 [==============================] - 0s 1ms/step - loss: 29.0705 - val_loss: 213.3403\n",
            "Epoch 22/200\n",
            "271/271 [==============================] - 0s 1ms/step - loss: 30.0341 - val_loss: 251.7113\n",
            "Epoch 23/200\n",
            "271/271 [==============================] - 0s 1ms/step - loss: 29.7284 - val_loss: 339.9862\n",
            "Epoch 24/200\n",
            "271/271 [==============================] - 0s 1ms/step - loss: 30.5139 - val_loss: 275.7029\n",
            "Epoch 25/200\n",
            "271/271 [==============================] - 0s 1ms/step - loss: 31.4161 - val_loss: 4039.0896\n",
            "Epoch 26/200\n",
            "271/271 [==============================] - 0s 1ms/step - loss: 31.4421 - val_loss: 87.3666\n",
            "Epoch 27/200\n",
            "271/271 [==============================] - 0s 1ms/step - loss: 28.5441 - val_loss: 72.6859\n",
            "Epoch 28/200\n",
            "271/271 [==============================] - 0s 1ms/step - loss: 32.3697 - val_loss: 74.2020\n",
            "Epoch 29/200\n",
            "271/271 [==============================] - 0s 1ms/step - loss: 31.1550 - val_loss: 72.1168\n",
            "Epoch 30/200\n",
            "271/271 [==============================] - 0s 1ms/step - loss: 28.0853 - val_loss: 82.5133\n",
            "Epoch 31/200\n",
            "271/271 [==============================] - 0s 1ms/step - loss: 30.9894 - val_loss: 1279.0704\n",
            "Epoch 32/200\n",
            "271/271 [==============================] - 0s 1ms/step - loss: 30.7689 - val_loss: 1347.6659\n",
            "Epoch 33/200\n",
            "271/271 [==============================] - 0s 1ms/step - loss: 30.7816 - val_loss: 199.2858\n",
            "Epoch 34/200\n",
            "271/271 [==============================] - 0s 1ms/step - loss: 28.9530 - val_loss: 1159.5842\n",
            "Epoch 35/200\n",
            "271/271 [==============================] - 0s 1ms/step - loss: 29.1300 - val_loss: 63062.3828\n",
            "Epoch 36/200\n",
            "271/271 [==============================] - 0s 1ms/step - loss: 28.5050 - val_loss: 1560.8692\n",
            "Epoch 37/200\n",
            "271/271 [==============================] - 0s 1ms/step - loss: 29.7819 - val_loss: 1237.9059\n",
            "Epoch 38/200\n",
            "271/271 [==============================] - 0s 1ms/step - loss: 28.3192 - val_loss: 1341.7475\n",
            "Epoch 39/200\n",
            "271/271 [==============================] - 0s 1ms/step - loss: 26.2423 - val_loss: 543313.2637\n",
            "Epoch 40/200\n",
            "271/271 [==============================] - 0s 1ms/step - loss: 29.3651 - val_loss: 900793.6291\n",
            "Epoch 41/200\n",
            "271/271 [==============================] - 0s 1ms/step - loss: 31.4928 - val_loss: 2207676.4657\n",
            "Epoch 42/200\n",
            "271/271 [==============================] - 0s 1ms/step - loss: 28.4581 - val_loss: 2925210.2898\n",
            "Epoch 43/200\n",
            "271/271 [==============================] - 0s 1ms/step - loss: 29.0787 - val_loss: 2592396.7266\n",
            "Epoch 44/200\n",
            "271/271 [==============================] - 0s 1ms/step - loss: 29.1084 - val_loss: 2002845.4169\n",
            "Epoch 45/200\n",
            "271/271 [==============================] - 0s 1ms/step - loss: 29.2752 - val_loss: 1398999.9368\n",
            "Epoch 46/200\n",
            "271/271 [==============================] - 0s 1ms/step - loss: 33.9959 - val_loss: 150507.1197\n",
            "Epoch 47/200\n",
            "271/271 [==============================] - 0s 1ms/step - loss: 28.1395 - val_loss: 20672.9070\n",
            "Epoch 48/200\n",
            "271/271 [==============================] - 0s 1ms/step - loss: 27.0816 - val_loss: 173970.2601\n",
            "Epoch 49/200\n",
            "271/271 [==============================] - 0s 1ms/step - loss: 32.6460 - val_loss: 72.7710\n",
            "Epoch 50/200\n",
            "271/271 [==============================] - 0s 1ms/step - loss: 27.5760 - val_loss: 43506.0293\n",
            "Epoch 51/200\n",
            "271/271 [==============================] - 0s 1ms/step - loss: 26.9335 - val_loss: 71.8259\n",
            "Epoch 52/200\n",
            "271/271 [==============================] - 0s 1ms/step - loss: 28.3784 - val_loss: 82.9206\n",
            "Epoch 53/200\n",
            "271/271 [==============================] - 0s 1ms/step - loss: 26.1495 - val_loss: 27002.2063\n",
            "Epoch 54/200\n",
            "271/271 [==============================] - 0s 1ms/step - loss: 28.5998 - val_loss: 152692.2282\n",
            "Epoch 55/200\n",
            "271/271 [==============================] - 0s 1ms/step - loss: 26.8368 - val_loss: 4431.5164\n",
            "Epoch 56/200\n",
            "271/271 [==============================] - 0s 1ms/step - loss: 33.9690 - val_loss: 66.5615\n",
            "Epoch 57/200\n",
            "271/271 [==============================] - 0s 1ms/step - loss: 31.0137 - val_loss: 72.4043\n",
            "Epoch 58/200\n",
            "271/271 [==============================] - 0s 1ms/step - loss: 30.6405 - val_loss: 72.3519\n",
            "Epoch 59/200\n",
            "271/271 [==============================] - 0s 1ms/step - loss: 31.0403 - val_loss: 260653.3111\n",
            "Epoch 60/200\n",
            "271/271 [==============================] - 0s 1ms/step - loss: 27.1762 - val_loss: 500248.7543\n",
            "Epoch 61/200\n",
            "271/271 [==============================] - 0s 1ms/step - loss: 30.7371 - val_loss: 213132.4962\n",
            "Epoch 62/200\n",
            "271/271 [==============================] - 0s 1ms/step - loss: 29.9417 - val_loss: 494646.5014\n",
            "Epoch 63/200\n",
            "271/271 [==============================] - 0s 1ms/step - loss: 32.7042 - val_loss: 213906.4066\n",
            "Epoch 64/200\n",
            "271/271 [==============================] - 0s 1ms/step - loss: 32.2552 - val_loss: 2514.6625\n",
            "Epoch 65/200\n",
            "271/271 [==============================] - 0s 1ms/step - loss: 30.3462 - val_loss: 9595.0994\n",
            "Epoch 66/200\n",
            "271/271 [==============================] - 0s 1ms/step - loss: 29.3006 - val_loss: 9796.4133\n",
            "Epoch 67/200\n",
            "271/271 [==============================] - 0s 1ms/step - loss: 31.7398 - val_loss: 4726.4189\n",
            "Epoch 68/200\n",
            "271/271 [==============================] - 0s 1ms/step - loss: 31.6659 - val_loss: 1416.6773\n",
            "Epoch 69/200\n",
            "271/271 [==============================] - 0s 1ms/step - loss: 30.7982 - val_loss: 205.3607\n",
            "Epoch 70/200\n",
            "271/271 [==============================] - 0s 2ms/step - loss: 28.8496 - val_loss: 19011.1808\n",
            "Epoch 71/200\n",
            "271/271 [==============================] - 0s 2ms/step - loss: 31.5642 - val_loss: 250.0412\n",
            "Epoch 72/200\n",
            "271/271 [==============================] - 0s 1ms/step - loss: 29.8597 - val_loss: 87.1449\n",
            "Epoch 73/200\n",
            "271/271 [==============================] - 0s 1ms/step - loss: 27.9675 - val_loss: 64.6425\n",
            "Epoch 74/200\n",
            "271/271 [==============================] - 0s 2ms/step - loss: 34.9594 - val_loss: 47.8225\n",
            "Epoch 75/200\n",
            "271/271 [==============================] - 0s 1ms/step - loss: 29.4385 - val_loss: 58.0946\n",
            "Epoch 76/200\n",
            "271/271 [==============================] - 0s 1ms/step - loss: 29.5778 - val_loss: 62.8832\n",
            "Epoch 77/200\n",
            "271/271 [==============================] - 0s 1ms/step - loss: 26.8162 - val_loss: 58.6120\n",
            "Epoch 78/200\n",
            "271/271 [==============================] - 0s 1ms/step - loss: 28.4829 - val_loss: 4210.8172\n",
            "Epoch 79/200\n",
            "271/271 [==============================] - 0s 2ms/step - loss: 27.4330 - val_loss: 71.3042\n",
            "Epoch 80/200\n",
            "271/271 [==============================] - 0s 1ms/step - loss: 27.3342 - val_loss: 87.9779\n",
            "Epoch 81/200\n",
            "271/271 [==============================] - 0s 2ms/step - loss: 28.2256 - val_loss: 53.2840\n",
            "Epoch 82/200\n",
            "271/271 [==============================] - 0s 1ms/step - loss: 34.4062 - val_loss: 64.8931\n",
            "Epoch 83/200\n",
            "271/271 [==============================] - 0s 1ms/step - loss: 30.5816 - val_loss: 100.5061\n",
            "Epoch 84/200\n",
            "271/271 [==============================] - 0s 1ms/step - loss: 28.7566 - val_loss: 393.7093\n",
            "Epoch 85/200\n",
            "271/271 [==============================] - 0s 1ms/step - loss: 25.1654 - val_loss: 300.3293\n",
            "Epoch 86/200\n",
            "271/271 [==============================] - 0s 1ms/step - loss: 26.8037 - val_loss: 86.5800\n",
            "Epoch 87/200\n",
            "271/271 [==============================] - 0s 1ms/step - loss: 28.7690 - val_loss: 113.1391\n",
            "Epoch 88/200\n",
            "271/271 [==============================] - 0s 1ms/step - loss: 27.6202 - val_loss: 65.8442\n",
            "Epoch 89/200\n",
            "271/271 [==============================] - 0s 1ms/step - loss: 31.1466 - val_loss: 178.9825\n",
            "Epoch 90/200\n",
            "271/271 [==============================] - 0s 1ms/step - loss: 26.6777 - val_loss: 235.0609\n",
            "Epoch 91/200\n",
            "271/271 [==============================] - 0s 1ms/step - loss: 29.5767 - val_loss: 317.9442\n",
            "Epoch 92/200\n",
            "271/271 [==============================] - 0s 1ms/step - loss: 29.2174 - val_loss: 132.2366\n",
            "Epoch 93/200\n",
            "271/271 [==============================] - 0s 1ms/step - loss: 32.9190 - val_loss: 191.5918\n",
            "Epoch 94/200\n",
            "271/271 [==============================] - 0s 1ms/step - loss: 26.3552 - val_loss: 103.3867\n",
            "Epoch 95/200\n",
            "271/271 [==============================] - 0s 1ms/step - loss: 29.1392 - val_loss: 257.4961\n",
            "Epoch 96/200\n",
            "271/271 [==============================] - 0s 1ms/step - loss: 26.6368 - val_loss: 410.2241\n",
            "Epoch 97/200\n",
            "271/271 [==============================] - 0s 1ms/step - loss: 32.3475 - val_loss: 319.3352\n",
            "Epoch 98/200\n",
            "271/271 [==============================] - 0s 1ms/step - loss: 28.2184 - val_loss: 348.5752\n",
            "Epoch 99/200\n",
            "271/271 [==============================] - 0s 1ms/step - loss: 28.9173 - val_loss: 176.6688\n",
            "Epoch 100/200\n",
            "271/271 [==============================] - 0s 1ms/step - loss: 27.1926 - val_loss: 271.7313\n",
            "Epoch 101/200\n",
            "271/271 [==============================] - 0s 1ms/step - loss: 31.7545 - val_loss: 259.5993\n",
            "Epoch 102/200\n",
            "271/271 [==============================] - 0s 1ms/step - loss: 28.2351 - val_loss: 175.8601\n",
            "Epoch 103/200\n",
            "271/271 [==============================] - 0s 1ms/step - loss: 29.3398 - val_loss: 164.8152\n",
            "Epoch 104/200\n",
            "271/271 [==============================] - 0s 1ms/step - loss: 30.5998 - val_loss: 373.3156\n",
            "Epoch 105/200\n",
            "271/271 [==============================] - 0s 1ms/step - loss: 26.2258 - val_loss: 473.5063\n",
            "Epoch 106/200\n",
            "271/271 [==============================] - 0s 1ms/step - loss: 28.6269 - val_loss: 327.6350\n",
            "Epoch 107/200\n",
            "271/271 [==============================] - 0s 1ms/step - loss: 26.6952 - val_loss: 102.2550\n",
            "Epoch 108/200\n",
            "271/271 [==============================] - 0s 1ms/step - loss: 28.2292 - val_loss: 143.1105\n",
            "Epoch 109/200\n",
            "271/271 [==============================] - 0s 1ms/step - loss: 30.9889 - val_loss: 519.4846\n",
            "Epoch 110/200\n",
            "271/271 [==============================] - 0s 1ms/step - loss: 27.3952 - val_loss: 417.7435\n",
            "Epoch 111/200\n",
            "271/271 [==============================] - 0s 1ms/step - loss: 27.9471 - val_loss: 134.3653\n",
            "Epoch 112/200\n",
            "271/271 [==============================] - 0s 1ms/step - loss: 29.0699 - val_loss: 45798.1748\n",
            "Epoch 113/200\n",
            "271/271 [==============================] - 0s 1ms/step - loss: 28.1275 - val_loss: 3705.6173\n",
            "Epoch 114/200\n",
            "271/271 [==============================] - 0s 1ms/step - loss: 27.9558 - val_loss: 174.8948\n",
            "Epoch 115/200\n",
            "271/271 [==============================] - 0s 1ms/step - loss: 26.9685 - val_loss: 156.6997\n",
            "Epoch 116/200\n",
            "271/271 [==============================] - 0s 1ms/step - loss: 28.5776 - val_loss: 54.0852\n",
            "Epoch 117/200\n",
            "271/271 [==============================] - 0s 1ms/step - loss: 28.3944 - val_loss: 14674.3571\n",
            "Epoch 118/200\n",
            "271/271 [==============================] - 0s 1ms/step - loss: 28.0464 - val_loss: 72.8333\n",
            "Epoch 119/200\n",
            "271/271 [==============================] - 0s 1ms/step - loss: 29.2772 - val_loss: 65.8917\n",
            "Epoch 120/200\n",
            "271/271 [==============================] - 0s 1ms/step - loss: 29.1287 - val_loss: 62.9234\n",
            "Epoch 121/200\n",
            "271/271 [==============================] - 0s 1ms/step - loss: 28.7710 - val_loss: 70.7843\n",
            "Epoch 122/200\n",
            "271/271 [==============================] - 0s 1ms/step - loss: 27.1765 - val_loss: 68.3740\n",
            "Epoch 123/200\n",
            "271/271 [==============================] - 0s 1ms/step - loss: 31.7580 - val_loss: 59.3005\n",
            "Epoch 124/200\n",
            "271/271 [==============================] - 0s 1ms/step - loss: 28.8750 - val_loss: 66.6439\n",
            "Epoch 125/200\n",
            "271/271 [==============================] - 0s 1ms/step - loss: 28.6737 - val_loss: 61.6694\n",
            "Epoch 126/200\n",
            "271/271 [==============================] - 0s 1ms/step - loss: 31.4829 - val_loss: 65.5474\n",
            "Epoch 127/200\n",
            "271/271 [==============================] - 0s 1ms/step - loss: 28.7781 - val_loss: 55.8514\n",
            "Epoch 128/200\n",
            "271/271 [==============================] - 0s 1ms/step - loss: 28.8562 - val_loss: 54.0255\n",
            "Epoch 129/200\n",
            "271/271 [==============================] - 0s 1ms/step - loss: 28.1982 - val_loss: 65.5267\n",
            "Epoch 130/200\n",
            "271/271 [==============================] - 0s 1ms/step - loss: 32.7780 - val_loss: 164.6996\n",
            "Epoch 131/200\n",
            "271/271 [==============================] - 0s 1ms/step - loss: 29.8120 - val_loss: 141.8942\n",
            "Epoch 132/200\n",
            "271/271 [==============================] - 0s 1ms/step - loss: 29.1749 - val_loss: 90.2797\n",
            "Epoch 133/200\n",
            "271/271 [==============================] - 0s 1ms/step - loss: 31.1888 - val_loss: 86.3721\n",
            "Epoch 134/200\n",
            "271/271 [==============================] - 0s 1ms/step - loss: 26.7071 - val_loss: 72.1520\n",
            "Epoch 135/200\n",
            "271/271 [==============================] - 0s 1ms/step - loss: 25.2614 - val_loss: 63.7101\n",
            "Epoch 136/200\n",
            "271/271 [==============================] - 0s 1ms/step - loss: 27.5181 - val_loss: 54.5741\n",
            "Epoch 137/200\n",
            "271/271 [==============================] - 0s 1ms/step - loss: 26.9106 - val_loss: 58226.9354\n",
            "Epoch 138/200\n",
            "271/271 [==============================] - 0s 1ms/step - loss: 26.9230 - val_loss: 27912.0788\n",
            "Epoch 139/200\n",
            "271/271 [==============================] - 0s 1ms/step - loss: 28.0631 - val_loss: 153.2511\n",
            "Epoch 140/200\n",
            "271/271 [==============================] - 0s 1ms/step - loss: 27.9489 - val_loss: 118.4395\n",
            "Epoch 141/200\n",
            "271/271 [==============================] - 0s 1ms/step - loss: 29.6959 - val_loss: 54906.1987\n",
            "Epoch 142/200\n",
            "271/271 [==============================] - 0s 1ms/step - loss: 28.1368 - val_loss: 29651.9911\n",
            "Epoch 143/200\n",
            "271/271 [==============================] - 0s 1ms/step - loss: 26.6251 - val_loss: 91.9033\n",
            "Epoch 144/200\n",
            "271/271 [==============================] - 0s 1ms/step - loss: 28.8443 - val_loss: 197.0919\n",
            "Epoch 145/200\n",
            "271/271 [==============================] - 0s 1ms/step - loss: 31.9195 - val_loss: 334.0202\n",
            "Epoch 146/200\n",
            "271/271 [==============================] - 0s 1ms/step - loss: 27.0041 - val_loss: 218.1755\n",
            "Epoch 147/200\n",
            "271/271 [==============================] - 0s 1ms/step - loss: 26.0565 - val_loss: 139.1942\n",
            "Epoch 148/200\n",
            "271/271 [==============================] - 0s 1ms/step - loss: 29.0285 - val_loss: 20704.6351\n",
            "Epoch 149/200\n",
            "271/271 [==============================] - 0s 1ms/step - loss: 33.5192 - val_loss: 204.3946\n",
            "Epoch 150/200\n",
            "271/271 [==============================] - 0s 1ms/step - loss: 30.3401 - val_loss: 113.3576\n",
            "Epoch 151/200\n",
            "271/271 [==============================] - 0s 1ms/step - loss: 29.6960 - val_loss: 102.8670\n",
            "Epoch 152/200\n",
            "271/271 [==============================] - 0s 1ms/step - loss: 27.4227 - val_loss: 5829.1283\n",
            "Epoch 153/200\n",
            "271/271 [==============================] - 0s 1ms/step - loss: 26.0103 - val_loss: 383.3755\n",
            "Epoch 154/200\n",
            "271/271 [==============================] - 0s 1ms/step - loss: 25.1623 - val_loss: 66972.5794\n",
            "Epoch 155/200\n",
            "271/271 [==============================] - 0s 1ms/step - loss: 28.7203 - val_loss: 373.3973\n",
            "Epoch 156/200\n",
            "271/271 [==============================] - 0s 1ms/step - loss: 27.3179 - val_loss: 184.3870\n",
            "Epoch 157/200\n",
            "271/271 [==============================] - 0s 1ms/step - loss: 28.5808 - val_loss: 177.2042\n",
            "Epoch 158/200\n",
            "271/271 [==============================] - 0s 1ms/step - loss: 27.3751 - val_loss: 163.5653\n",
            "Epoch 159/200\n",
            "271/271 [==============================] - 0s 1ms/step - loss: 27.4639 - val_loss: 340.4108\n",
            "Epoch 160/200\n",
            "271/271 [==============================] - 0s 1ms/step - loss: 26.0239 - val_loss: 208.6016\n",
            "Epoch 161/200\n",
            "271/271 [==============================] - 0s 1ms/step - loss: 26.7246 - val_loss: 65.3853\n",
            "Epoch 162/200\n",
            "271/271 [==============================] - 0s 1ms/step - loss: 27.2011 - val_loss: 61.7931\n",
            "Epoch 163/200\n",
            "271/271 [==============================] - 0s 1ms/step - loss: 27.5859 - val_loss: 110.4121\n",
            "Epoch 164/200\n",
            "271/271 [==============================] - 0s 1ms/step - loss: 29.9350 - val_loss: 447.9534\n",
            "Epoch 165/200\n",
            "271/271 [==============================] - 0s 1ms/step - loss: 32.1971 - val_loss: 1886.6280\n",
            "Epoch 166/200\n",
            "271/271 [==============================] - 0s 1ms/step - loss: 29.5746 - val_loss: 872.4192\n",
            "Epoch 167/200\n",
            "271/271 [==============================] - 0s 1ms/step - loss: 27.1315 - val_loss: 502.6757\n",
            "Epoch 168/200\n",
            "271/271 [==============================] - 0s 1ms/step - loss: 27.9079 - val_loss: 529.6525\n",
            "Epoch 169/200\n",
            "271/271 [==============================] - 0s 1ms/step - loss: 30.3730 - val_loss: 332.7019\n",
            "Epoch 170/200\n",
            "271/271 [==============================] - 0s 1ms/step - loss: 26.8043 - val_loss: 231.3317\n",
            "Epoch 171/200\n",
            "271/271 [==============================] - 0s 1ms/step - loss: 28.0205 - val_loss: 227.3962\n",
            "Epoch 172/200\n",
            "271/271 [==============================] - 0s 1ms/step - loss: 27.2964 - val_loss: 72.5868\n",
            "Epoch 173/200\n",
            "271/271 [==============================] - 0s 1ms/step - loss: 27.6072 - val_loss: 62.4596\n",
            "Epoch 174/200\n",
            "271/271 [==============================] - 0s 1ms/step - loss: 31.6811 - val_loss: 62.7315\n",
            "Epoch 175/200\n",
            "271/271 [==============================] - 0s 1ms/step - loss: 29.7873 - val_loss: 18318.4702\n",
            "Epoch 176/200\n",
            "271/271 [==============================] - 0s 1ms/step - loss: 29.5677 - val_loss: 5779.0447\n",
            "Epoch 177/200\n",
            "271/271 [==============================] - 0s 1ms/step - loss: 26.8794 - val_loss: 7082.8588\n",
            "Epoch 178/200\n",
            "271/271 [==============================] - 0s 1ms/step - loss: 27.7702 - val_loss: 1291.3638\n",
            "Epoch 179/200\n",
            "271/271 [==============================] - 0s 1ms/step - loss: 26.2632 - val_loss: 64.5832\n",
            "Epoch 180/200\n",
            "271/271 [==============================] - 0s 1ms/step - loss: 25.9740 - val_loss: 58.9107\n",
            "Epoch 181/200\n",
            "271/271 [==============================] - 0s 1ms/step - loss: 27.5542 - val_loss: 11148.7420\n",
            "Epoch 182/200\n",
            "271/271 [==============================] - 0s 1ms/step - loss: 28.3267 - val_loss: 9189.7562\n",
            "Epoch 183/200\n",
            "271/271 [==============================] - 0s 1ms/step - loss: 25.3342 - val_loss: 10201.6359\n",
            "Epoch 184/200\n",
            "271/271 [==============================] - 0s 1ms/step - loss: 26.2290 - val_loss: 31940.6841\n",
            "Epoch 185/200\n",
            "271/271 [==============================] - 0s 1ms/step - loss: 26.8191 - val_loss: 14988.4235\n",
            "Epoch 186/200\n",
            "271/271 [==============================] - 0s 1ms/step - loss: 30.1591 - val_loss: 78807.3202\n",
            "Epoch 187/200\n",
            "271/271 [==============================] - 0s 1ms/step - loss: 26.5665 - val_loss: 231268.5497\n",
            "Epoch 188/200\n",
            "271/271 [==============================] - 0s 1ms/step - loss: 28.3009 - val_loss: 124668.3910\n",
            "Epoch 189/200\n",
            "271/271 [==============================] - 0s 1ms/step - loss: 28.1791 - val_loss: 22033.2186\n",
            "Epoch 190/200\n",
            "271/271 [==============================] - 0s 1ms/step - loss: 29.3846 - val_loss: 43934.0647\n",
            "Epoch 191/200\n",
            "271/271 [==============================] - 0s 1ms/step - loss: 29.3446 - val_loss: 65.8910\n",
            "Epoch 192/200\n",
            "271/271 [==============================] - 0s 1ms/step - loss: 27.9355 - val_loss: 65.7432\n",
            "Epoch 193/200\n",
            "271/271 [==============================] - 0s 1ms/step - loss: 27.0791 - val_loss: 61.9499\n",
            "Epoch 194/200\n",
            "271/271 [==============================] - 0s 1ms/step - loss: 28.4120 - val_loss: 61.2521\n",
            "Epoch 195/200\n",
            "271/271 [==============================] - 0s 1ms/step - loss: 25.4272 - val_loss: 239.2628\n",
            "Epoch 196/200\n",
            "271/271 [==============================] - 0s 1ms/step - loss: 25.6778 - val_loss: 92.5004\n",
            "Epoch 197/200\n",
            "271/271 [==============================] - 0s 1ms/step - loss: 26.0455 - val_loss: 1061.4321\n",
            "Epoch 198/200\n",
            "271/271 [==============================] - 0s 1ms/step - loss: 27.2467 - val_loss: 13265.9253\n",
            "Epoch 199/200\n",
            "271/271 [==============================] - 0s 1ms/step - loss: 25.5553 - val_loss: 8381.9433\n",
            "Epoch 200/200\n",
            "271/271 [==============================] - 0s 1ms/step - loss: 26.1541 - val_loss: 824.6117\n"
          ],
          "name": "stdout"
        }
      ]
    },
    {
      "cell_type": "code",
      "metadata": {
        "id": "iGObQdO18UzW",
        "colab_type": "code",
        "colab": {
          "base_uri": "https://localhost:8080/",
          "height": 51
        },
        "outputId": "4d47ecd3-5185-4ca4-cbe7-39727aa7dd3c"
      },
      "source": [
        "diff = preds.flatten() - testY\n",
        "percentDiff = (diff / testY) * 100\n",
        "absPercentDiff = np.abs(percentDiff)\n",
        " \n",
        "\n",
        "mean = np.mean(absPercentDiff)\n",
        "std = np.std(absPercentDiff)\n",
        " \n",
        "locale.setlocale(locale.LC_ALL, \"en_US.UTF-8\")\n",
        "print(\"[INFO] avg. house price: {}, std house price: {}\".format(\n",
        "    locale.currency(df[\"price\"].mean(), grouping=True),\n",
        "    locale.currency(df[\"price\"].std(), grouping=True)))\n",
        "print(\"[INFO] mean: {:.2f}%, std: {:.2f}%\".format(mean, std))"
      ],
      "execution_count": 151,
      "outputs": [
        {
          "output_type": "stream",
          "text": [
            "[INFO] avg. house price: $533,388.27, std house price: $493,403.08\n",
            "[INFO] mean: 824.61%, std: 2635.13%\n"
          ],
          "name": "stdout"
        }
      ]
    },
    {
      "cell_type": "markdown",
      "metadata": {
        "id": "DqhpzTqATdtG",
        "colab_type": "text"
      },
      "source": [
        "# Sources"
      ]
    },
    {
      "cell_type": "markdown",
      "metadata": {
        "id": "NBeLn6I7neA1",
        "colab_type": "text"
      },
      "source": [
        "Source: H. Ahmed E. and Moustafa M. (2016). House Price Estimation from Visual and Textual Features.In Proceedings of the 8th International Joint Conference on Computational Intelligence (IJCCI 2016)ISBN 978-989-758-201-1, pages 62-68. DOI: 10.5220/0006040700620068"
      ]
    },
    {
      "cell_type": "markdown",
      "metadata": {
        "id": "o2EF18jFTk-p",
        "colab_type": "text"
      },
      "source": [
        "https://www.pyimagesearch.com/2019/02/04/keras-multiple-inputs-and-mixed-data/"
      ]
    },
    {
      "cell_type": "markdown",
      "metadata": {
        "id": "4sPMkGOjTmVG",
        "colab_type": "text"
      },
      "source": [
        ""
      ]
    }
  ]
}